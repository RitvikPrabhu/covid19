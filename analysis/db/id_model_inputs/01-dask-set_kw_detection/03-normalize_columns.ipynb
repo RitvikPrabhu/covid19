{
 "cells": [
  {
   "cell_type": "code",
   "execution_count": 1,
   "metadata": {
    "execution": {
     "iopub.execute_input": "2020-07-22T19:06:42.788427Z",
     "iopub.status.busy": "2020-07-22T19:06:42.787436Z",
     "iopub.status.idle": "2020-07-22T19:06:46.126417Z",
     "shell.execute_reply": "2020-07-22T19:06:46.125416Z",
     "shell.execute_reply.started": "2020-07-22T19:06:42.788427Z"
    }
   },
   "outputs": [],
   "source": [
    "from datetime import datetime\n",
    "import os\n",
    "\n",
    "import dask.dataframe as dd\n",
    "from dask.distributed import Client\n",
    "import janitor\n",
    "from numpy import vectorize\n",
    "import pandas as pd\n",
    "from pyprojroot import here"
   ]
  },
  {
   "cell_type": "code",
   "execution_count": 2,
   "metadata": {
    "execution": {
     "iopub.execute_input": "2020-07-22T19:06:48.264099Z",
     "iopub.status.busy": "2020-07-22T19:06:48.264099Z",
     "iopub.status.idle": "2020-07-22T19:06:48.276103Z",
     "shell.execute_reply": "2020-07-22T19:06:48.275097Z",
     "shell.execute_reply.started": "2020-07-22T19:06:48.264099Z"
    }
   },
   "outputs": [],
   "source": [
    "def prefix_dict_keys(dictionary, prefix):\n",
    "    return {f\"{prefix}-{key.replace(' ', '_')}\": dictionary.get(key) for key in dictionary.keys()}"
   ]
  },
  {
   "cell_type": "code",
   "execution_count": 3,
   "metadata": {
    "execution": {
     "iopub.execute_input": "2020-07-22T19:06:48.823104Z",
     "iopub.status.busy": "2020-07-22T19:06:48.822097Z",
     "iopub.status.idle": "2020-07-22T19:06:52.057137Z",
     "shell.execute_reply": "2020-07-22T19:06:52.055144Z",
     "shell.execute_reply.started": "2020-07-22T19:06:48.823104Z"
    }
   },
   "outputs": [
    {
     "data": {
      "text/html": [
       "<table style=\"border: 2px solid white;\">\n",
       "<tr>\n",
       "<td style=\"vertical-align: top; border: 0px solid white\">\n",
       "<h3 style=\"text-align: left;\">Client</h3>\n",
       "<ul style=\"text-align: left; list-style: none; margin: 0; padding: 0;\">\n",
       "  <li><b>Scheduler: </b>tcp://127.0.0.1:51060</li>\n",
       "  <li><b>Dashboard: </b><a href='http://127.0.0.1:8787/status' target='_blank'>http://127.0.0.1:8787/status</a></li>\n",
       "</ul>\n",
       "</td>\n",
       "<td style=\"vertical-align: top; border: 0px solid white\">\n",
       "<h3 style=\"text-align: left;\">Cluster</h3>\n",
       "<ul style=\"text-align: left; list-style:none; margin: 0; padding: 0;\">\n",
       "  <li><b>Workers: </b>3</li>\n",
       "  <li><b>Cores: </b>3</li>\n",
       "  <li><b>Memory: </b>6.00 GB</li>\n",
       "</ul>\n",
       "</td>\n",
       "</tr>\n",
       "</table>"
      ],
      "text/plain": [
       "<Client: 'tcp://127.0.0.1:51060' processes=3 threads=3, memory=6.00 GB>"
      ]
     },
     "execution_count": 3,
     "metadata": {},
     "output_type": "execute_result"
    }
   ],
   "source": [
    "client = Client(n_workers=3, threads_per_worker=1, memory_limit='2GB')\n",
    "client"
   ]
  },
  {
   "cell_type": "code",
   "execution_count": 4,
   "metadata": {
    "execution": {
     "iopub.execute_input": "2020-07-22T19:06:52.059142Z",
     "iopub.status.busy": "2020-07-22T19:06:52.059142Z",
     "iopub.status.idle": "2020-07-22T19:06:52.089137Z",
     "shell.execute_reply": "2020-07-22T19:06:52.087137Z",
     "shell.execute_reply.started": "2020-07-22T19:06:52.059142Z"
    }
   },
   "outputs": [],
   "source": [
    "files = str(here(\"./data/db/working/kaggle/id_model_inputs/02-found_sentences.json.gzip\"))\n",
    "pth = os.path.join(files, \"*.part\")"
   ]
  },
  {
   "cell_type": "code",
   "execution_count": 5,
   "metadata": {
    "execution": {
     "iopub.execute_input": "2020-07-22T19:06:52.093138Z",
     "iopub.status.busy": "2020-07-22T19:06:52.092178Z",
     "iopub.status.idle": "2020-07-22T19:06:53.700137Z",
     "shell.execute_reply": "2020-07-22T19:06:53.698137Z",
     "shell.execute_reply.started": "2020-07-22T19:06:52.093138Z"
    }
   },
   "outputs": [],
   "source": [
    "found_terms = dd.read_json(pth, compression=\"gzip\")"
   ]
  },
  {
   "cell_type": "code",
   "execution_count": 6,
   "metadata": {
    "execution": {
     "iopub.execute_input": "2020-07-22T19:06:53.703140Z",
     "iopub.status.busy": "2020-07-22T19:06:53.702139Z",
     "iopub.status.idle": "2020-07-22T19:06:53.716172Z",
     "shell.execute_reply": "2020-07-22T19:06:53.714135Z",
     "shell.execute_reply.started": "2020-07-22T19:06:53.703140Z"
    }
   },
   "outputs": [],
   "source": [
    "# len(found_terms) # about 15 seconds with 6 cores 1 gb ram"
   ]
  },
  {
   "cell_type": "code",
   "execution_count": 7,
   "metadata": {
    "execution": {
     "iopub.execute_input": "2020-07-22T19:06:53.718145Z",
     "iopub.status.busy": "2020-07-22T19:06:53.718145Z",
     "iopub.status.idle": "2020-07-22T19:08:03.604489Z",
     "shell.execute_reply": "2020-07-22T19:08:03.602495Z",
     "shell.execute_reply.started": "2020-07-22T19:06:53.718145Z"
    }
   },
   "outputs": [],
   "source": [
    "df = found_terms.compute() # about 1 minute"
   ]
  },
  {
   "cell_type": "code",
   "execution_count": 8,
   "metadata": {
    "execution": {
     "iopub.execute_input": "2020-07-22T19:08:03.608541Z",
     "iopub.status.busy": "2020-07-22T19:08:03.607508Z",
     "iopub.status.idle": "2020-07-22T19:08:05.953963Z",
     "shell.execute_reply": "2020-07-22T19:08:05.951940Z",
     "shell.execute_reply.started": "2020-07-22T19:08:03.608541Z"
    }
   },
   "outputs": [
    {
     "name": "stderr",
     "output_type": "stream",
     "text": [
      "distributed.client - ERROR - Failed to reconnect to scheduler after 10.00 seconds, closing client\n",
      "_GatheringFuture exception was never retrieved\n",
      "future: <_GatheringFuture finished exception=CancelledError()>\n",
      "asyncio.exceptions.CancelledError\n"
     ]
    }
   ],
   "source": [
    "client.shutdown()"
   ]
  },
  {
   "cell_type": "code",
   "execution_count": 9,
   "metadata": {
    "execution": {
     "iopub.execute_input": "2020-07-22T19:08:19.950746Z",
     "iopub.status.busy": "2020-07-22T19:08:19.950746Z",
     "iopub.status.idle": "2020-07-22T19:08:20.509751Z",
     "shell.execute_reply": "2020-07-22T19:08:20.507749Z",
     "shell.execute_reply.started": "2020-07-22T19:08:19.950746Z"
    }
   },
   "outputs": [
    {
     "data": {
      "text/html": [
       "<div>\n",
       "<style scoped>\n",
       "    .dataframe tbody tr th:only-of-type {\n",
       "        vertical-align: middle;\n",
       "    }\n",
       "\n",
       "    .dataframe tbody tr th {\n",
       "        vertical-align: top;\n",
       "    }\n",
       "\n",
       "    .dataframe thead th {\n",
       "        text-align: right;\n",
       "    }\n",
       "</style>\n",
       "<table border=\"1\" class=\"dataframe\">\n",
       "  <thead>\n",
       "    <tr style=\"text-align: right;\">\n",
       "      <th></th>\n",
       "      <th>pid</th>\n",
       "      <th>num_authors</th>\n",
       "      <th>title</th>\n",
       "      <th>text</th>\n",
       "      <th>text_sent_lower</th>\n",
       "      <th>sent_set</th>\n",
       "      <th>found_terms</th>\n",
       "      <th>found_sent_idx</th>\n",
       "      <th>found_sent</th>\n",
       "    </tr>\n",
       "  </thead>\n",
       "  <tbody>\n",
       "    <tr>\n",
       "      <th>0</th>\n",
       "      <td>PMC1074749</td>\n",
       "      <td>8</td>\n",
       "      <td>Species-independent detection of RNA virus by ...</td>\n",
       "      <td>Identifying the causative agent of an infectio...</td>\n",
       "      <td>[identifying the causative agent of an infecti...</td>\n",
       "      <td>[[its, eventual, causative, for, control, ., i...</td>\n",
       "      <td>{'incubation period': True}</td>\n",
       "      <td>{'incubation period': [72]}</td>\n",
       "      <td>{'incubation period': [['after the mixture was...</td>\n",
       "    </tr>\n",
       "    <tr>\n",
       "      <th>1</th>\n",
       "      <td>PMC1090610</td>\n",
       "      <td>1</td>\n",
       "      <td>GIDEON: a comprehensive Web-based resource for...</td>\n",
       "      <td>As of 2005, the world is confronted by 338 gen...</td>\n",
       "      <td>[as of 2005, the world is confronted by 338 ge...</td>\n",
       "      <td>[[generic, countries, 2005, scattered, as, in,...</td>\n",
       "      <td>{'incubation period': True}</td>\n",
       "      <td>{'incubation period': [12]}</td>\n",
       "      <td>{'incubation period': [['the diagnosis module ...</td>\n",
       "    </tr>\n",
       "    <tr>\n",
       "      <th>2</th>\n",
       "      <td>PMC1181873</td>\n",
       "      <td>4</td>\n",
       "      <td>Appropriate Models for the Management of Infec...</td>\n",
       "      <td>The past decade has seen a dramatic increase i...</td>\n",
       "      <td>[the past decade has seen a dramatic increase ...</td>\n",
       "      <td>[[seen, increase, to, health, attached, in, si...</td>\n",
       "      <td>{'latent period': True}</td>\n",
       "      <td>{'latent period': [23, 27, 48, 49, 50, 51, 52,...</td>\n",
       "      <td>{'latent period': [['the effects of n on the d...</td>\n",
       "    </tr>\n",
       "    <tr>\n",
       "      <th>3</th>\n",
       "      <td>PMC1215526</td>\n",
       "      <td>1</td>\n",
       "      <td>Macrophages and cytokines in the early defence...</td>\n",
       "      <td>Virus-host interactions are crucial for the ou...</td>\n",
       "      <td>[virus-host interactions are crucial for the o...</td>\n",
       "      <td>[[., for, interactions, the, infections, are, ...</td>\n",
       "      <td>{'asymptomatic proportion': True}</td>\n",
       "      <td>{'asymptomatic proportion': [83]}</td>\n",
       "      <td>{'asymptomatic proportion': [['seropositivity ...</td>\n",
       "    </tr>\n",
       "    <tr>\n",
       "      <th>4</th>\n",
       "      <td>PMC1247620</td>\n",
       "      <td>7</td>\n",
       "      <td>Understanding the Spatial Clustering of Severe...</td>\n",
       "      <td>We used spatial and nonspatial data in this st...</td>\n",
       "      <td>[we used spatial and nonspatial data in this s...</td>\n",
       "      <td>[[this, data, ., spatial, used, we, in, nonspa...</td>\n",
       "      <td>{'incubation period': True}</td>\n",
       "      <td>{'incubation period': [23, 53]}</td>\n",
       "      <td>{'incubation period': [['a 5-day incubation pe...</td>\n",
       "    </tr>\n",
       "  </tbody>\n",
       "</table>\n",
       "</div>"
      ],
      "text/plain": [
       "          pid  num_authors                                              title  \\\n",
       "0  PMC1074749            8  Species-independent detection of RNA virus by ...   \n",
       "1  PMC1090610            1  GIDEON: a comprehensive Web-based resource for...   \n",
       "2  PMC1181873            4  Appropriate Models for the Management of Infec...   \n",
       "3  PMC1215526            1  Macrophages and cytokines in the early defence...   \n",
       "4  PMC1247620            7  Understanding the Spatial Clustering of Severe...   \n",
       "\n",
       "                                                text  \\\n",
       "0  Identifying the causative agent of an infectio...   \n",
       "1  As of 2005, the world is confronted by 338 gen...   \n",
       "2  The past decade has seen a dramatic increase i...   \n",
       "3  Virus-host interactions are crucial for the ou...   \n",
       "4  We used spatial and nonspatial data in this st...   \n",
       "\n",
       "                                     text_sent_lower  \\\n",
       "0  [identifying the causative agent of an infecti...   \n",
       "1  [as of 2005, the world is confronted by 338 ge...   \n",
       "2  [the past decade has seen a dramatic increase ...   \n",
       "3  [virus-host interactions are crucial for the o...   \n",
       "4  [we used spatial and nonspatial data in this s...   \n",
       "\n",
       "                                            sent_set  \\\n",
       "0  [[its, eventual, causative, for, control, ., i...   \n",
       "1  [[generic, countries, 2005, scattered, as, in,...   \n",
       "2  [[seen, increase, to, health, attached, in, si...   \n",
       "3  [[., for, interactions, the, infections, are, ...   \n",
       "4  [[this, data, ., spatial, used, we, in, nonspa...   \n",
       "\n",
       "                         found_terms  \\\n",
       "0        {'incubation period': True}   \n",
       "1        {'incubation period': True}   \n",
       "2            {'latent period': True}   \n",
       "3  {'asymptomatic proportion': True}   \n",
       "4        {'incubation period': True}   \n",
       "\n",
       "                                      found_sent_idx  \\\n",
       "0                        {'incubation period': [72]}   \n",
       "1                        {'incubation period': [12]}   \n",
       "2  {'latent period': [23, 27, 48, 49, 50, 51, 52,...   \n",
       "3                  {'asymptomatic proportion': [83]}   \n",
       "4                    {'incubation period': [23, 53]}   \n",
       "\n",
       "                                          found_sent  \n",
       "0  {'incubation period': [['after the mixture was...  \n",
       "1  {'incubation period': [['the diagnosis module ...  \n",
       "2  {'latent period': [['the effects of n on the d...  \n",
       "3  {'asymptomatic proportion': [['seropositivity ...  \n",
       "4  {'incubation period': [['a 5-day incubation pe...  "
      ]
     },
     "execution_count": 9,
     "metadata": {},
     "output_type": "execute_result"
    }
   ],
   "source": [
    "df.head()"
   ]
  },
  {
   "cell_type": "code",
   "execution_count": 10,
   "metadata": {
    "execution": {
     "iopub.execute_input": "2020-07-22T19:08:20.716932Z",
     "iopub.status.busy": "2020-07-22T19:08:20.715930Z",
     "iopub.status.idle": "2020-07-22T19:08:20.761931Z",
     "shell.execute_reply": "2020-07-22T19:08:20.759927Z",
     "shell.execute_reply.started": "2020-07-22T19:08:20.716932Z"
    }
   },
   "outputs": [],
   "source": [
    "df['found_count'] = df[\"found_sent_idx\"].apply(lambda d: {k: len(d[k]) for k in d.keys()})"
   ]
  },
  {
   "cell_type": "code",
   "execution_count": 11,
   "metadata": {
    "execution": {
     "iopub.execute_input": "2020-07-22T19:08:21.390555Z",
     "iopub.status.busy": "2020-07-22T19:08:21.389561Z",
     "iopub.status.idle": "2020-07-22T19:08:21.525555Z",
     "shell.execute_reply": "2020-07-22T19:08:21.524555Z",
     "shell.execute_reply.started": "2020-07-22T19:08:21.390555Z"
    }
   },
   "outputs": [],
   "source": [
    "# rename keys for pivot into columns\n",
    "df = (df\n",
    "      .assign(\n",
    "          found_terms = df[\"found_terms\"].apply(prefix_dict_keys, prefix=\"has\"),\n",
    "          found_count = df[\"found_count\"].apply(prefix_dict_keys, prefix=\"ct\"),\n",
    "          found_sent_idx = df[\"found_sent_idx\"].apply(prefix_dict_keys, prefix=\"idx\"),\n",
    "          found_sent = df[\"found_sent\"].apply(prefix_dict_keys, prefix=\"sent\")\n",
    "          )\n",
    "      .reset_index()\n",
    ")"
   ]
  },
  {
   "cell_type": "code",
   "execution_count": 12,
   "metadata": {
    "execution": {
     "iopub.execute_input": "2020-07-22T19:08:21.803722Z",
     "iopub.status.busy": "2020-07-22T19:08:21.803722Z",
     "iopub.status.idle": "2020-07-22T19:08:22.283719Z",
     "shell.execute_reply": "2020-07-22T19:08:22.282738Z",
     "shell.execute_reply.started": "2020-07-22T19:08:21.803722Z"
    }
   },
   "outputs": [],
   "source": [
    "normalized_cols = [pd.json_normalize(value) for colname, value in df[['found_terms', 'found_count', 'found_sent_idx', 'found_sent']].iteritems()]"
   ]
  },
  {
   "cell_type": "code",
   "execution_count": 13,
   "metadata": {
    "execution": {
     "iopub.execute_input": "2020-07-22T19:08:22.286722Z",
     "iopub.status.busy": "2020-07-22T19:08:22.285718Z",
     "iopub.status.idle": "2020-07-22T19:08:22.299717Z",
     "shell.execute_reply": "2020-07-22T19:08:22.298745Z",
     "shell.execute_reply.started": "2020-07-22T19:08:22.286722Z"
    }
   },
   "outputs": [
    {
     "data": {
      "text/plain": [
       "RangeIndex(start=0, stop=5928, step=1)"
      ]
     },
     "execution_count": 13,
     "metadata": {},
     "output_type": "execute_result"
    }
   ],
   "source": [
    "df.index"
   ]
  },
  {
   "cell_type": "code",
   "execution_count": 14,
   "metadata": {
    "execution": {
     "iopub.execute_input": "2020-07-22T19:08:22.639343Z",
     "iopub.status.busy": "2020-07-22T19:08:22.639343Z",
     "iopub.status.idle": "2020-07-22T19:08:22.659295Z",
     "shell.execute_reply": "2020-07-22T19:08:22.657293Z",
     "shell.execute_reply.started": "2020-07-22T19:08:22.639343Z"
    }
   },
   "outputs": [
    {
     "data": {
      "text/plain": [
       "[RangeIndex(start=0, stop=5928, step=1),\n",
       " RangeIndex(start=0, stop=5928, step=1),\n",
       " RangeIndex(start=0, stop=5928, step=1),\n",
       " RangeIndex(start=0, stop=5928, step=1)]"
      ]
     },
     "execution_count": 14,
     "metadata": {},
     "output_type": "execute_result"
    }
   ],
   "source": [
    "list(map(lambda x: x.index, normalized_cols))"
   ]
  },
  {
   "cell_type": "code",
   "execution_count": 15,
   "metadata": {
    "execution": {
     "iopub.execute_input": "2020-07-22T19:08:23.092990Z",
     "iopub.status.busy": "2020-07-22T19:08:23.091996Z",
     "iopub.status.idle": "2020-07-22T19:08:23.109989Z",
     "shell.execute_reply": "2020-07-22T19:08:23.107990Z",
     "shell.execute_reply.started": "2020-07-22T19:08:23.092990Z"
    }
   },
   "outputs": [],
   "source": [
    "# make sure all the index values are the same before concat\n",
    "assert all([(df.index == x).all() for x in list(map(lambda x: x.index, normalized_cols))])"
   ]
  },
  {
   "cell_type": "code",
   "execution_count": 19,
   "metadata": {
    "execution": {
     "iopub.execute_input": "2020-07-22T19:08:25.018127Z",
     "iopub.status.busy": "2020-07-22T19:08:25.018127Z",
     "iopub.status.idle": "2020-07-22T19:08:25.042109Z",
     "shell.execute_reply": "2020-07-22T19:08:25.040106Z",
     "shell.execute_reply.started": "2020-07-22T19:08:25.018127Z"
    }
   },
   "outputs": [
    {
     "data": {
      "text/plain": [
       "5"
      ]
     },
     "execution_count": 19,
     "metadata": {},
     "output_type": "execute_result"
    }
   ],
   "source": [
    "concat_dfs = []\n",
    "concat_dfs.extend([df])\n",
    "concat_dfs.extend(normalized_cols)\n",
    "len(concat_dfs)"
   ]
  },
  {
   "cell_type": "code",
   "execution_count": 25,
   "metadata": {
    "execution": {
     "iopub.execute_input": "2020-07-22T19:12:08.165975Z",
     "iopub.status.busy": "2020-07-22T19:12:08.164937Z",
     "iopub.status.idle": "2020-07-22T19:12:08.184935Z",
     "shell.execute_reply": "2020-07-22T19:12:08.182943Z",
     "shell.execute_reply.started": "2020-07-22T19:12:08.165975Z"
    }
   },
   "outputs": [],
   "source": [
    "normalized_df = pd.concat(concat_dfs, axis=\"columns\")"
   ]
  },
  {
   "cell_type": "code",
   "execution_count": 26,
   "metadata": {
    "execution": {
     "iopub.execute_input": "2020-07-22T19:12:10.157225Z",
     "iopub.status.busy": "2020-07-22T19:12:10.157225Z",
     "iopub.status.idle": "2020-07-22T19:12:11.314220Z",
     "shell.execute_reply": "2020-07-22T19:12:11.312226Z",
     "shell.execute_reply.started": "2020-07-22T19:12:10.157225Z"
    }
   },
   "outputs": [
    {
     "data": {
      "text/html": [
       "<div>\n",
       "<style scoped>\n",
       "    .dataframe tbody tr th:only-of-type {\n",
       "        vertical-align: middle;\n",
       "    }\n",
       "\n",
       "    .dataframe tbody tr th {\n",
       "        vertical-align: top;\n",
       "    }\n",
       "\n",
       "    .dataframe thead th {\n",
       "        text-align: right;\n",
       "    }\n",
       "</style>\n",
       "<table border=\"1\" class=\"dataframe\">\n",
       "  <thead>\n",
       "    <tr style=\"text-align: right;\">\n",
       "      <th></th>\n",
       "      <th>index</th>\n",
       "      <th>pid</th>\n",
       "      <th>num_authors</th>\n",
       "      <th>title</th>\n",
       "      <th>text</th>\n",
       "      <th>text_sent_lower</th>\n",
       "      <th>sent_set</th>\n",
       "      <th>found_terms</th>\n",
       "      <th>found_sent_idx</th>\n",
       "      <th>found_sent</th>\n",
       "      <th>...</th>\n",
       "      <th>sent-latent_period</th>\n",
       "      <th>sent-asymptomatic_proportion</th>\n",
       "      <th>sent-case_fatality_ratio</th>\n",
       "      <th>sent-recovery_rate</th>\n",
       "      <th>sent-infectiousness_period</th>\n",
       "      <th>sent-case_fatality_rate</th>\n",
       "      <th>sent-hospitalized_proportion</th>\n",
       "      <th>sent-asymptomatic_fraction</th>\n",
       "      <th>sent-hospitalized_fraction</th>\n",
       "      <th>sent-asymptomatic_ratio</th>\n",
       "    </tr>\n",
       "  </thead>\n",
       "  <tbody>\n",
       "    <tr>\n",
       "      <th>0</th>\n",
       "      <td>0</td>\n",
       "      <td>PMC1074749</td>\n",
       "      <td>8</td>\n",
       "      <td>Species-independent detection of RNA virus by ...</td>\n",
       "      <td>Identifying the causative agent of an infectio...</td>\n",
       "      <td>[identifying the causative agent of an infecti...</td>\n",
       "      <td>[[its, eventual, causative, for, control, ., i...</td>\n",
       "      <td>{'has-incubation_period': True}</td>\n",
       "      <td>{'idx-incubation_period': [72]}</td>\n",
       "      <td>{'sent-incubation_period': [['after the mixtur...</td>\n",
       "      <td>...</td>\n",
       "      <td>NaN</td>\n",
       "      <td>NaN</td>\n",
       "      <td>NaN</td>\n",
       "      <td>NaN</td>\n",
       "      <td>NaN</td>\n",
       "      <td>NaN</td>\n",
       "      <td>NaN</td>\n",
       "      <td>NaN</td>\n",
       "      <td>NaN</td>\n",
       "      <td>NaN</td>\n",
       "    </tr>\n",
       "    <tr>\n",
       "      <th>1</th>\n",
       "      <td>1</td>\n",
       "      <td>PMC1090610</td>\n",
       "      <td>1</td>\n",
       "      <td>GIDEON: a comprehensive Web-based resource for...</td>\n",
       "      <td>As of 2005, the world is confronted by 338 gen...</td>\n",
       "      <td>[as of 2005, the world is confronted by 338 ge...</td>\n",
       "      <td>[[generic, countries, 2005, scattered, as, in,...</td>\n",
       "      <td>{'has-incubation_period': True}</td>\n",
       "      <td>{'idx-incubation_period': [12]}</td>\n",
       "      <td>{'sent-incubation_period': [['the diagnosis mo...</td>\n",
       "      <td>...</td>\n",
       "      <td>NaN</td>\n",
       "      <td>NaN</td>\n",
       "      <td>NaN</td>\n",
       "      <td>NaN</td>\n",
       "      <td>NaN</td>\n",
       "      <td>NaN</td>\n",
       "      <td>NaN</td>\n",
       "      <td>NaN</td>\n",
       "      <td>NaN</td>\n",
       "      <td>NaN</td>\n",
       "    </tr>\n",
       "    <tr>\n",
       "      <th>2</th>\n",
       "      <td>2</td>\n",
       "      <td>PMC1181873</td>\n",
       "      <td>4</td>\n",
       "      <td>Appropriate Models for the Management of Infec...</td>\n",
       "      <td>The past decade has seen a dramatic increase i...</td>\n",
       "      <td>[the past decade has seen a dramatic increase ...</td>\n",
       "      <td>[[seen, increase, to, health, attached, in, si...</td>\n",
       "      <td>{'has-latent_period': True}</td>\n",
       "      <td>{'idx-latent_period': [23, 27, 48, 49, 50, 51,...</td>\n",
       "      <td>{'sent-latent_period': [['the effects of n on ...</td>\n",
       "      <td>...</td>\n",
       "      <td>[[the effects of n on the distribution of the ...</td>\n",
       "      <td>NaN</td>\n",
       "      <td>NaN</td>\n",
       "      <td>NaN</td>\n",
       "      <td>NaN</td>\n",
       "      <td>NaN</td>\n",
       "      <td>NaN</td>\n",
       "      <td>NaN</td>\n",
       "      <td>NaN</td>\n",
       "      <td>NaN</td>\n",
       "    </tr>\n",
       "    <tr>\n",
       "      <th>3</th>\n",
       "      <td>3</td>\n",
       "      <td>PMC1215526</td>\n",
       "      <td>1</td>\n",
       "      <td>Macrophages and cytokines in the early defence...</td>\n",
       "      <td>Virus-host interactions are crucial for the ou...</td>\n",
       "      <td>[virus-host interactions are crucial for the o...</td>\n",
       "      <td>[[., for, interactions, the, infections, are, ...</td>\n",
       "      <td>{'has-asymptomatic_proportion': True}</td>\n",
       "      <td>{'idx-asymptomatic_proportion': [83]}</td>\n",
       "      <td>{'sent-asymptomatic_proportion': [['seropositi...</td>\n",
       "      <td>...</td>\n",
       "      <td>NaN</td>\n",
       "      <td>[[seropositivity to hsv-1 does not render any ...</td>\n",
       "      <td>NaN</td>\n",
       "      <td>NaN</td>\n",
       "      <td>NaN</td>\n",
       "      <td>NaN</td>\n",
       "      <td>NaN</td>\n",
       "      <td>NaN</td>\n",
       "      <td>NaN</td>\n",
       "      <td>NaN</td>\n",
       "    </tr>\n",
       "    <tr>\n",
       "      <th>4</th>\n",
       "      <td>4</td>\n",
       "      <td>PMC1247620</td>\n",
       "      <td>7</td>\n",
       "      <td>Understanding the Spatial Clustering of Severe...</td>\n",
       "      <td>We used spatial and nonspatial data in this st...</td>\n",
       "      <td>[we used spatial and nonspatial data in this s...</td>\n",
       "      <td>[[this, data, ., spatial, used, we, in, nonspa...</td>\n",
       "      <td>{'has-incubation_period': True}</td>\n",
       "      <td>{'idx-incubation_period': [23, 53]}</td>\n",
       "      <td>{'sent-incubation_period': [['a 5-day incubati...</td>\n",
       "      <td>...</td>\n",
       "      <td>NaN</td>\n",
       "      <td>NaN</td>\n",
       "      <td>NaN</td>\n",
       "      <td>NaN</td>\n",
       "      <td>NaN</td>\n",
       "      <td>NaN</td>\n",
       "      <td>NaN</td>\n",
       "      <td>NaN</td>\n",
       "      <td>NaN</td>\n",
       "      <td>NaN</td>\n",
       "    </tr>\n",
       "    <tr>\n",
       "      <th>...</th>\n",
       "      <td>...</td>\n",
       "      <td>...</td>\n",
       "      <td>...</td>\n",
       "      <td>...</td>\n",
       "      <td>...</td>\n",
       "      <td>...</td>\n",
       "      <td>...</td>\n",
       "      <td>...</td>\n",
       "      <td>...</td>\n",
       "      <td>...</td>\n",
       "      <td>...</td>\n",
       "      <td>...</td>\n",
       "      <td>...</td>\n",
       "      <td>...</td>\n",
       "      <td>...</td>\n",
       "      <td>...</td>\n",
       "      <td>...</td>\n",
       "      <td>...</td>\n",
       "      <td>...</td>\n",
       "      <td>...</td>\n",
       "      <td>...</td>\n",
       "    </tr>\n",
       "    <tr>\n",
       "      <th>5923</th>\n",
       "      <td>36</td>\n",
       "      <td>PMC7298926</td>\n",
       "      <td>4</td>\n",
       "      <td>Impacts of epidemic outbreaks on supply chains...</td>\n",
       "      <td>How does the OSCM literature address issues re...</td>\n",
       "      <td>[how does the oscm literature address issues r...</td>\n",
       "      <td>[[to, outbreaks, oscm, how, and, terms, of, th...</td>\n",
       "      <td>{'has-latent_period': True}</td>\n",
       "      <td>{'idx-latent_period': [51]}</td>\n",
       "      <td>{'sent-latent_period': [['another interesting ...</td>\n",
       "      <td>...</td>\n",
       "      <td>[[another interesting concentration is related...</td>\n",
       "      <td>NaN</td>\n",
       "      <td>NaN</td>\n",
       "      <td>NaN</td>\n",
       "      <td>NaN</td>\n",
       "      <td>NaN</td>\n",
       "      <td>NaN</td>\n",
       "      <td>NaN</td>\n",
       "      <td>NaN</td>\n",
       "      <td>NaN</td>\n",
       "    </tr>\n",
       "    <tr>\n",
       "      <th>5924</th>\n",
       "      <td>37</td>\n",
       "      <td>PMC7299143</td>\n",
       "      <td>3</td>\n",
       "      <td>Significance of geographical factors to the CO...</td>\n",
       "      <td>Coronavirus disease 2019 (COVID-19) already co...</td>\n",
       "      <td>[coronavirus disease 2019 (covid-19) already c...</td>\n",
       "      <td>[[as, significantly, already, disease, 2019, m...</td>\n",
       "      <td>{'has-incubation_period': True, 'has-recovery_...</td>\n",
       "      <td>{'idx-incubation_period': [8], 'idx-recovery_r...</td>\n",
       "      <td>{'sent-incubation_period': [['this contact tra...</td>\n",
       "      <td>...</td>\n",
       "      <td>NaN</td>\n",
       "      <td>NaN</td>\n",
       "      <td>NaN</td>\n",
       "      <td>[[these workers did not observe any noticeable...</td>\n",
       "      <td>NaN</td>\n",
       "      <td>NaN</td>\n",
       "      <td>NaN</td>\n",
       "      <td>NaN</td>\n",
       "      <td>NaN</td>\n",
       "      <td>NaN</td>\n",
       "    </tr>\n",
       "    <tr>\n",
       "      <th>5925</th>\n",
       "      <td>38</td>\n",
       "      <td>PMC7299147</td>\n",
       "      <td>5</td>\n",
       "      <td>A new SAIR model on complex networks for analy...</td>\n",
       "      <td>In the last two decades, large-scale pandemics...</td>\n",
       "      <td>[in the last two decades, large-scale pandemic...</td>\n",
       "      <td>[[two, ,, province, acute, coronaviruses, midd...</td>\n",
       "      <td>{'has-recovery_rate': True, 'has-latent_period...</td>\n",
       "      <td>{'idx-recovery_rate': [64, 69, 81, 84], 'idx-l...</td>\n",
       "      <td>{'sent-recovery_rate': [['first, we explore th...</td>\n",
       "      <td>...</td>\n",
       "      <td>[[for an asymptomatically infected individual,...</td>\n",
       "      <td>NaN</td>\n",
       "      <td>NaN</td>\n",
       "      <td>[[first, we explore the impact of recovery rat...</td>\n",
       "      <td>NaN</td>\n",
       "      <td>NaN</td>\n",
       "      <td>NaN</td>\n",
       "      <td>NaN</td>\n",
       "      <td>NaN</td>\n",
       "      <td>NaN</td>\n",
       "    </tr>\n",
       "    <tr>\n",
       "      <th>5926</th>\n",
       "      <td>39</td>\n",
       "      <td>PMC7299369</td>\n",
       "      <td>5</td>\n",
       "      <td>Current Perspective of Antiviral Strategies ag...</td>\n",
       "      <td>An understanding of the replication cycle and ...</td>\n",
       "      <td>[an understanding of the replication cycle and...</td>\n",
       "      <td>[[antivirals, understanding, and, vaccines, of...</td>\n",
       "      <td>{'has-incubation_period': True}</td>\n",
       "      <td>{'idx-incubation_period': [14]}</td>\n",
       "      <td>{'sent-incubation_period': [['in most patients...</td>\n",
       "      <td>...</td>\n",
       "      <td>NaN</td>\n",
       "      <td>NaN</td>\n",
       "      <td>NaN</td>\n",
       "      <td>NaN</td>\n",
       "      <td>NaN</td>\n",
       "      <td>NaN</td>\n",
       "      <td>NaN</td>\n",
       "      <td>NaN</td>\n",
       "      <td>NaN</td>\n",
       "      <td>NaN</td>\n",
       "    </tr>\n",
       "    <tr>\n",
       "      <th>5927</th>\n",
       "      <td>40</td>\n",
       "      <td>PMC7299399</td>\n",
       "      <td>17</td>\n",
       "      <td>Toward Nanotechnology-Enabled Approaches again...</td>\n",
       "      <td>Through millions of years of evolution, viruse...</td>\n",
       "      <td>[through millions of years of evolution, virus...</td>\n",
       "      <td>[[efforts, millions, ,, to, mechanisms, vector...</td>\n",
       "      <td>{'has-incubation_period': True}</td>\n",
       "      <td>{'idx-incubation_period': [9]}</td>\n",
       "      <td>{'sent-incubation_period': [['the severity of ...</td>\n",
       "      <td>...</td>\n",
       "      <td>NaN</td>\n",
       "      <td>NaN</td>\n",
       "      <td>NaN</td>\n",
       "      <td>NaN</td>\n",
       "      <td>NaN</td>\n",
       "      <td>NaN</td>\n",
       "      <td>NaN</td>\n",
       "      <td>NaN</td>\n",
       "      <td>NaN</td>\n",
       "      <td>NaN</td>\n",
       "    </tr>\n",
       "  </tbody>\n",
       "</table>\n",
       "<p>5928 rows × 55 columns</p>\n",
       "</div>"
      ],
      "text/plain": [
       "      index         pid  num_authors  \\\n",
       "0         0  PMC1074749            8   \n",
       "1         1  PMC1090610            1   \n",
       "2         2  PMC1181873            4   \n",
       "3         3  PMC1215526            1   \n",
       "4         4  PMC1247620            7   \n",
       "...     ...         ...          ...   \n",
       "5923     36  PMC7298926            4   \n",
       "5924     37  PMC7299143            3   \n",
       "5925     38  PMC7299147            5   \n",
       "5926     39  PMC7299369            5   \n",
       "5927     40  PMC7299399           17   \n",
       "\n",
       "                                                  title  \\\n",
       "0     Species-independent detection of RNA virus by ...   \n",
       "1     GIDEON: a comprehensive Web-based resource for...   \n",
       "2     Appropriate Models for the Management of Infec...   \n",
       "3     Macrophages and cytokines in the early defence...   \n",
       "4     Understanding the Spatial Clustering of Severe...   \n",
       "...                                                 ...   \n",
       "5923  Impacts of epidemic outbreaks on supply chains...   \n",
       "5924  Significance of geographical factors to the CO...   \n",
       "5925  A new SAIR model on complex networks for analy...   \n",
       "5926  Current Perspective of Antiviral Strategies ag...   \n",
       "5927  Toward Nanotechnology-Enabled Approaches again...   \n",
       "\n",
       "                                                   text  \\\n",
       "0     Identifying the causative agent of an infectio...   \n",
       "1     As of 2005, the world is confronted by 338 gen...   \n",
       "2     The past decade has seen a dramatic increase i...   \n",
       "3     Virus-host interactions are crucial for the ou...   \n",
       "4     We used spatial and nonspatial data in this st...   \n",
       "...                                                 ...   \n",
       "5923  How does the OSCM literature address issues re...   \n",
       "5924  Coronavirus disease 2019 (COVID-19) already co...   \n",
       "5925  In the last two decades, large-scale pandemics...   \n",
       "5926  An understanding of the replication cycle and ...   \n",
       "5927  Through millions of years of evolution, viruse...   \n",
       "\n",
       "                                        text_sent_lower  \\\n",
       "0     [identifying the causative agent of an infecti...   \n",
       "1     [as of 2005, the world is confronted by 338 ge...   \n",
       "2     [the past decade has seen a dramatic increase ...   \n",
       "3     [virus-host interactions are crucial for the o...   \n",
       "4     [we used spatial and nonspatial data in this s...   \n",
       "...                                                 ...   \n",
       "5923  [how does the oscm literature address issues r...   \n",
       "5924  [coronavirus disease 2019 (covid-19) already c...   \n",
       "5925  [in the last two decades, large-scale pandemic...   \n",
       "5926  [an understanding of the replication cycle and...   \n",
       "5927  [through millions of years of evolution, virus...   \n",
       "\n",
       "                                               sent_set  \\\n",
       "0     [[its, eventual, causative, for, control, ., i...   \n",
       "1     [[generic, countries, 2005, scattered, as, in,...   \n",
       "2     [[seen, increase, to, health, attached, in, si...   \n",
       "3     [[., for, interactions, the, infections, are, ...   \n",
       "4     [[this, data, ., spatial, used, we, in, nonspa...   \n",
       "...                                                 ...   \n",
       "5923  [[to, outbreaks, oscm, how, and, terms, of, th...   \n",
       "5924  [[as, significantly, already, disease, 2019, m...   \n",
       "5925  [[two, ,, province, acute, coronaviruses, midd...   \n",
       "5926  [[antivirals, understanding, and, vaccines, of...   \n",
       "5927  [[efforts, millions, ,, to, mechanisms, vector...   \n",
       "\n",
       "                                            found_terms  \\\n",
       "0                       {'has-incubation_period': True}   \n",
       "1                       {'has-incubation_period': True}   \n",
       "2                           {'has-latent_period': True}   \n",
       "3                 {'has-asymptomatic_proportion': True}   \n",
       "4                       {'has-incubation_period': True}   \n",
       "...                                                 ...   \n",
       "5923                        {'has-latent_period': True}   \n",
       "5924  {'has-incubation_period': True, 'has-recovery_...   \n",
       "5925  {'has-recovery_rate': True, 'has-latent_period...   \n",
       "5926                    {'has-incubation_period': True}   \n",
       "5927                    {'has-incubation_period': True}   \n",
       "\n",
       "                                         found_sent_idx  \\\n",
       "0                       {'idx-incubation_period': [72]}   \n",
       "1                       {'idx-incubation_period': [12]}   \n",
       "2     {'idx-latent_period': [23, 27, 48, 49, 50, 51,...   \n",
       "3                 {'idx-asymptomatic_proportion': [83]}   \n",
       "4                   {'idx-incubation_period': [23, 53]}   \n",
       "...                                                 ...   \n",
       "5923                        {'idx-latent_period': [51]}   \n",
       "5924  {'idx-incubation_period': [8], 'idx-recovery_r...   \n",
       "5925  {'idx-recovery_rate': [64, 69, 81, 84], 'idx-l...   \n",
       "5926                    {'idx-incubation_period': [14]}   \n",
       "5927                     {'idx-incubation_period': [9]}   \n",
       "\n",
       "                                             found_sent  ...  \\\n",
       "0     {'sent-incubation_period': [['after the mixtur...  ...   \n",
       "1     {'sent-incubation_period': [['the diagnosis mo...  ...   \n",
       "2     {'sent-latent_period': [['the effects of n on ...  ...   \n",
       "3     {'sent-asymptomatic_proportion': [['seropositi...  ...   \n",
       "4     {'sent-incubation_period': [['a 5-day incubati...  ...   \n",
       "...                                                 ...  ...   \n",
       "5923  {'sent-latent_period': [['another interesting ...  ...   \n",
       "5924  {'sent-incubation_period': [['this contact tra...  ...   \n",
       "5925  {'sent-recovery_rate': [['first, we explore th...  ...   \n",
       "5926  {'sent-incubation_period': [['in most patients...  ...   \n",
       "5927  {'sent-incubation_period': [['the severity of ...  ...   \n",
       "\n",
       "                                     sent-latent_period  \\\n",
       "0                                                   NaN   \n",
       "1                                                   NaN   \n",
       "2     [[the effects of n on the distribution of the ...   \n",
       "3                                                   NaN   \n",
       "4                                                   NaN   \n",
       "...                                                 ...   \n",
       "5923  [[another interesting concentration is related...   \n",
       "5924                                                NaN   \n",
       "5925  [[for an asymptomatically infected individual,...   \n",
       "5926                                                NaN   \n",
       "5927                                                NaN   \n",
       "\n",
       "                           sent-asymptomatic_proportion  \\\n",
       "0                                                   NaN   \n",
       "1                                                   NaN   \n",
       "2                                                   NaN   \n",
       "3     [[seropositivity to hsv-1 does not render any ...   \n",
       "4                                                   NaN   \n",
       "...                                                 ...   \n",
       "5923                                                NaN   \n",
       "5924                                                NaN   \n",
       "5925                                                NaN   \n",
       "5926                                                NaN   \n",
       "5927                                                NaN   \n",
       "\n",
       "     sent-case_fatality_ratio  \\\n",
       "0                         NaN   \n",
       "1                         NaN   \n",
       "2                         NaN   \n",
       "3                         NaN   \n",
       "4                         NaN   \n",
       "...                       ...   \n",
       "5923                      NaN   \n",
       "5924                      NaN   \n",
       "5925                      NaN   \n",
       "5926                      NaN   \n",
       "5927                      NaN   \n",
       "\n",
       "                                     sent-recovery_rate  \\\n",
       "0                                                   NaN   \n",
       "1                                                   NaN   \n",
       "2                                                   NaN   \n",
       "3                                                   NaN   \n",
       "4                                                   NaN   \n",
       "...                                                 ...   \n",
       "5923                                                NaN   \n",
       "5924  [[these workers did not observe any noticeable...   \n",
       "5925  [[first, we explore the impact of recovery rat...   \n",
       "5926                                                NaN   \n",
       "5927                                                NaN   \n",
       "\n",
       "     sent-infectiousness_period sent-case_fatality_rate  \\\n",
       "0                           NaN                     NaN   \n",
       "1                           NaN                     NaN   \n",
       "2                           NaN                     NaN   \n",
       "3                           NaN                     NaN   \n",
       "4                           NaN                     NaN   \n",
       "...                         ...                     ...   \n",
       "5923                        NaN                     NaN   \n",
       "5924                        NaN                     NaN   \n",
       "5925                        NaN                     NaN   \n",
       "5926                        NaN                     NaN   \n",
       "5927                        NaN                     NaN   \n",
       "\n",
       "     sent-hospitalized_proportion sent-asymptomatic_fraction  \\\n",
       "0                             NaN                        NaN   \n",
       "1                             NaN                        NaN   \n",
       "2                             NaN                        NaN   \n",
       "3                             NaN                        NaN   \n",
       "4                             NaN                        NaN   \n",
       "...                           ...                        ...   \n",
       "5923                          NaN                        NaN   \n",
       "5924                          NaN                        NaN   \n",
       "5925                          NaN                        NaN   \n",
       "5926                          NaN                        NaN   \n",
       "5927                          NaN                        NaN   \n",
       "\n",
       "     sent-hospitalized_fraction sent-asymptomatic_ratio  \n",
       "0                           NaN                     NaN  \n",
       "1                           NaN                     NaN  \n",
       "2                           NaN                     NaN  \n",
       "3                           NaN                     NaN  \n",
       "4                           NaN                     NaN  \n",
       "...                         ...                     ...  \n",
       "5923                        NaN                     NaN  \n",
       "5924                        NaN                     NaN  \n",
       "5925                        NaN                     NaN  \n",
       "5926                        NaN                     NaN  \n",
       "5927                        NaN                     NaN  \n",
       "\n",
       "[5928 rows x 55 columns]"
      ]
     },
     "execution_count": 26,
     "metadata": {},
     "output_type": "execute_result"
    }
   ],
   "source": [
    "normalized_df"
   ]
  },
  {
   "cell_type": "code",
   "execution_count": 27,
   "metadata": {
    "execution": {
     "iopub.execute_input": "2020-07-22T19:12:30.343978Z",
     "iopub.status.busy": "2020-07-22T19:12:30.342960Z",
     "iopub.status.idle": "2020-07-22T19:12:30.358959Z",
     "shell.execute_reply": "2020-07-22T19:12:30.356959Z",
     "shell.execute_reply.started": "2020-07-22T19:12:30.343978Z"
    }
   },
   "outputs": [],
   "source": [
    "assert len(normalized_df) == len(df)"
   ]
  },
  {
   "cell_type": "code",
   "execution_count": 29,
   "metadata": {
    "execution": {
     "iopub.execute_input": "2020-07-22T19:14:47.252988Z",
     "iopub.status.busy": "2020-07-22T19:14:47.252988Z",
     "iopub.status.idle": "2020-07-22T19:17:38.882564Z",
     "shell.execute_reply": "2020-07-22T19:17:38.881533Z",
     "shell.execute_reply.started": "2020-07-22T19:14:47.252988Z"
    }
   },
   "outputs": [],
   "source": [
    "normalized_df.to_json(here(\"./data/db/final/kaggle/id_model_inputs/03-normalized_columns.json.gzip\", warn=False), compression=\"gzip\")"
   ]
  },
  {
   "cell_type": "code",
   "execution_count": null,
   "metadata": {},
   "outputs": [],
   "source": []
  }
 ],
 "metadata": {
  "kernelspec": {
   "display_name": "db_covid19",
   "language": "python",
   "name": "db_covid19"
  },
  "language_info": {
   "codemirror_mode": {
    "name": "ipython",
    "version": 3
   },
   "file_extension": ".py",
   "mimetype": "text/x-python",
   "name": "python",
   "nbconvert_exporter": "python",
   "pygments_lexer": "ipython3",
   "version": "3.8.2"
  }
 },
 "nbformat": 4,
 "nbformat_minor": 4
}
