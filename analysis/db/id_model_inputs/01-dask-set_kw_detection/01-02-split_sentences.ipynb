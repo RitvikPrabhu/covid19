{
 "cells": [
  {
   "cell_type": "code",
   "execution_count": 1,
   "metadata": {
    "execution": {
     "iopub.execute_input": "2020-07-20T23:25:08.389383Z",
     "iopub.status.busy": "2020-07-20T23:25:08.388367Z",
     "iopub.status.idle": "2020-07-20T23:25:12.077416Z",
     "shell.execute_reply": "2020-07-20T23:25:12.076431Z",
     "shell.execute_reply.started": "2020-07-20T23:25:08.389383Z"
    }
   },
   "outputs": [],
   "source": [
    "from datetime import datetime\n",
    "import dask.dataframe as dd\n",
    "import os\n",
    "import pathlib as pl\n",
    "import sys\n",
    "\n",
    "\n",
    "\n",
    "from dask.distributed import Client\n",
    "import nltk.data\n",
    "from pyprojroot import here\n"
   ]
  },
  {
   "cell_type": "code",
   "execution_count": 2,
   "metadata": {
    "execution": {
     "iopub.execute_input": "2020-07-20T23:25:20.578197Z",
     "iopub.status.busy": "2020-07-20T23:25:20.578197Z",
     "iopub.status.idle": "2020-07-20T23:25:24.378248Z",
     "shell.execute_reply": "2020-07-20T23:25:24.376247Z",
     "shell.execute_reply.started": "2020-07-20T23:25:20.578197Z"
    }
   },
   "outputs": [
    {
     "data": {
      "text/html": [
       "<table style=\"border: 2px solid white;\">\n",
       "<tr>\n",
       "<td style=\"vertical-align: top; border: 0px solid white\">\n",
       "<h3 style=\"text-align: left;\">Client</h3>\n",
       "<ul style=\"text-align: left; list-style: none; margin: 0; padding: 0;\">\n",
       "  <li><b>Scheduler: </b>tcp://127.0.0.1:61945</li>\n",
       "  <li><b>Dashboard: </b><a href='http://127.0.0.1:8787/status' target='_blank'>http://127.0.0.1:8787/status</a></li>\n",
       "</ul>\n",
       "</td>\n",
       "<td style=\"vertical-align: top; border: 0px solid white\">\n",
       "<h3 style=\"text-align: left;\">Cluster</h3>\n",
       "<ul style=\"text-align: left; list-style:none; margin: 0; padding: 0;\">\n",
       "  <li><b>Workers: </b>6</li>\n",
       "  <li><b>Cores: </b>6</li>\n",
       "  <li><b>Memory: </b>6.00 GB</li>\n",
       "</ul>\n",
       "</td>\n",
       "</tr>\n",
       "</table>"
      ],
      "text/plain": [
       "<Client: 'tcp://127.0.0.1:61945' processes=6 threads=6, memory=6.00 GB>"
      ]
     },
     "execution_count": 2,
     "metadata": {},
     "output_type": "execute_result"
    }
   ],
   "source": [
    "client = Client(n_workers=6, threads_per_worker=1, memory_limit='1GB')\n",
    "client"
   ]
  },
  {
   "cell_type": "code",
   "execution_count": 3,
   "metadata": {
    "execution": {
     "iopub.execute_input": "2020-07-20T23:25:30.190221Z",
     "iopub.status.busy": "2020-07-20T23:25:30.189222Z",
     "iopub.status.idle": "2020-07-20T23:25:30.233225Z",
     "shell.execute_reply": "2020-07-20T23:25:30.218227Z",
     "shell.execute_reply.started": "2020-07-20T23:25:30.190221Z"
    }
   },
   "outputs": [
    {
     "data": {
      "text/plain": [
       "'C:\\\\Users\\\\Danie\\\\git\\\\hub\\\\databridge\\\\covid19\\\\data\\\\db\\\\working\\\\kaggle\\\\id_model_inputs\\\\01-01-dask_data_frame_partitions_1000.json.gzip'"
      ]
     },
     "execution_count": 3,
     "metadata": {},
     "output_type": "execute_result"
    }
   ],
   "source": [
    "nparts = 1000\n",
    "fout = str(here(f\"./data/db/working/kaggle/id_model_inputs/01-01-dask_data_frame_partitions_{nparts}.json.gzip\", warn=False))\n",
    "fout"
   ]
  },
  {
   "cell_type": "code",
   "execution_count": 4,
   "metadata": {
    "execution": {
     "iopub.execute_input": "2020-07-20T23:25:31.298152Z",
     "iopub.status.busy": "2020-07-20T23:25:31.297152Z",
     "iopub.status.idle": "2020-07-20T23:25:33.375180Z",
     "shell.execute_reply": "2020-07-20T23:25:33.372183Z",
     "shell.execute_reply.started": "2020-07-20T23:25:31.298152Z"
    }
   },
   "outputs": [],
   "source": [
    "pth = os.path.join(fout, \"*.part\")\n",
    "ddf = dd.read_json(pth, compression=\"gzip\")"
   ]
  },
  {
   "cell_type": "code",
   "execution_count": 5,
   "metadata": {
    "execution": {
     "iopub.execute_input": "2020-07-20T23:25:33.381179Z",
     "iopub.status.busy": "2020-07-20T23:25:33.380179Z",
     "iopub.status.idle": "2020-07-20T23:25:33.451182Z",
     "shell.execute_reply": "2020-07-20T23:25:33.449198Z",
     "shell.execute_reply.started": "2020-07-20T23:25:33.381179Z"
    }
   },
   "outputs": [
    {
     "data": {
      "text/html": [
       "<div><strong>Dask DataFrame Structure:</strong></div>\n",
       "<div>\n",
       "<style scoped>\n",
       "    .dataframe tbody tr th:only-of-type {\n",
       "        vertical-align: middle;\n",
       "    }\n",
       "\n",
       "    .dataframe tbody tr th {\n",
       "        vertical-align: top;\n",
       "    }\n",
       "\n",
       "    .dataframe thead th {\n",
       "        text-align: right;\n",
       "    }\n",
       "</style>\n",
       "<table border=\"1\" class=\"dataframe\">\n",
       "  <thead>\n",
       "    <tr style=\"text-align: right;\">\n",
       "      <th></th>\n",
       "      <th>pid</th>\n",
       "      <th>num_authors</th>\n",
       "      <th>title</th>\n",
       "      <th>text</th>\n",
       "    </tr>\n",
       "    <tr>\n",
       "      <th>npartitions=985</th>\n",
       "      <th></th>\n",
       "      <th></th>\n",
       "      <th></th>\n",
       "      <th></th>\n",
       "    </tr>\n",
       "  </thead>\n",
       "  <tbody>\n",
       "    <tr>\n",
       "      <th></th>\n",
       "      <td>object</td>\n",
       "      <td>int64</td>\n",
       "      <td>object</td>\n",
       "      <td>object</td>\n",
       "    </tr>\n",
       "    <tr>\n",
       "      <th></th>\n",
       "      <td>...</td>\n",
       "      <td>...</td>\n",
       "      <td>...</td>\n",
       "      <td>...</td>\n",
       "    </tr>\n",
       "    <tr>\n",
       "      <th>...</th>\n",
       "      <td>...</td>\n",
       "      <td>...</td>\n",
       "      <td>...</td>\n",
       "      <td>...</td>\n",
       "    </tr>\n",
       "    <tr>\n",
       "      <th></th>\n",
       "      <td>...</td>\n",
       "      <td>...</td>\n",
       "      <td>...</td>\n",
       "      <td>...</td>\n",
       "    </tr>\n",
       "    <tr>\n",
       "      <th></th>\n",
       "      <td>...</td>\n",
       "      <td>...</td>\n",
       "      <td>...</td>\n",
       "      <td>...</td>\n",
       "    </tr>\n",
       "  </tbody>\n",
       "</table>\n",
       "</div>\n",
       "<div>Dask Name: from-delayed, 1970 tasks</div>"
      ],
      "text/plain": [
       "Dask DataFrame Structure:\n",
       "                    pid num_authors   title    text\n",
       "npartitions=985                                    \n",
       "                 object       int64  object  object\n",
       "                    ...         ...     ...     ...\n",
       "...                 ...         ...     ...     ...\n",
       "                    ...         ...     ...     ...\n",
       "                    ...         ...     ...     ...\n",
       "Dask Name: from-delayed, 1970 tasks"
      ]
     },
     "execution_count": 5,
     "metadata": {},
     "output_type": "execute_result"
    }
   ],
   "source": [
    "ddf"
   ]
  },
  {
   "cell_type": "code",
   "execution_count": 6,
   "metadata": {
    "execution": {
     "iopub.execute_input": "2020-07-20T23:25:39.338922Z",
     "iopub.status.busy": "2020-07-20T23:25:39.336920Z",
     "iopub.status.idle": "2020-07-20T23:25:39.372920Z",
     "shell.execute_reply": "2020-07-20T23:25:39.368956Z",
     "shell.execute_reply.started": "2020-07-20T23:25:39.337924Z"
    }
   },
   "outputs": [],
   "source": [
    "# break up into sentences\n",
    "sent_detector = nltk.data.load('tokenizers/punkt/english.pickle') # nltk.download('punkt')"
   ]
  },
  {
   "cell_type": "code",
   "execution_count": 7,
   "metadata": {
    "execution": {
     "iopub.execute_input": "2020-07-20T23:25:39.770141Z",
     "iopub.status.busy": "2020-07-20T23:25:39.770141Z",
     "iopub.status.idle": "2020-07-20T23:25:39.852143Z",
     "shell.execute_reply": "2020-07-20T23:25:39.851162Z",
     "shell.execute_reply.started": "2020-07-20T23:25:39.770141Z"
    }
   },
   "outputs": [],
   "source": [
    "ddf[\"text_sent_lower\"] = ddf[\"text\"].map_partitions(\n",
    "    lambda x: x.apply(\n",
    "        lambda y: sent_detector.tokenize(y.lower().strip())\n",
    "    )\n",
    ")"
   ]
  },
  {
   "cell_type": "code",
   "execution_count": 8,
   "metadata": {
    "execution": {
     "iopub.execute_input": "2020-07-20T23:25:40.560729Z",
     "iopub.status.busy": "2020-07-20T23:25:40.560729Z",
     "iopub.status.idle": "2020-07-20T23:25:40.579683Z",
     "shell.execute_reply": "2020-07-20T23:25:40.577711Z",
     "shell.execute_reply.started": "2020-07-20T23:25:40.560729Z"
    }
   },
   "outputs": [],
   "source": [
    "#ddf.visualize()"
   ]
  },
  {
   "cell_type": "code",
   "execution_count": 9,
   "metadata": {
    "execution": {
     "iopub.execute_input": "2020-07-20T23:25:41.235323Z",
     "iopub.status.busy": "2020-07-20T23:25:41.234328Z",
     "iopub.status.idle": "2020-07-20T23:30:43.481526Z",
     "shell.execute_reply": "2020-07-20T23:30:43.473520Z",
     "shell.execute_reply.started": "2020-07-20T23:25:41.235323Z"
    }
   },
   "outputs": [
    {
     "name": "stdout",
     "output_type": "stream",
     "text": [
      "Duration: 0:05:02.213197\n"
     ]
    }
   ],
   "source": [
    "start_time = datetime.now()\n",
    "\n",
    "pl.Path(here(\"./data/db/working/kaggle/id_model_inputs\", warn=False)).mkdir(parents=True, exist_ok=True)\n",
    "ddf.to_json(str(here(\"./data/db/working/kaggle/id_model_inputs/01-02-split_sentences.json.gzip\", warn=False)), compression=\"gzip\") # about 5 minutes\n",
    "\n",
    "end_time = datetime.now()\n",
    "print('Duration: {}'.format(end_time - start_time))"
   ]
  },
  {
   "cell_type": "code",
   "execution_count": 10,
   "metadata": {
    "execution": {
     "iopub.execute_input": "2020-07-20T23:30:55.107731Z",
     "iopub.status.busy": "2020-07-20T23:30:55.095776Z",
     "iopub.status.idle": "2020-07-20T23:30:58.115817Z",
     "shell.execute_reply": "2020-07-20T23:30:58.114408Z",
     "shell.execute_reply.started": "2020-07-20T23:30:55.107731Z"
    }
   },
   "outputs": [],
   "source": [
    "client.shutdown()"
   ]
  },
  {
   "cell_type": "code",
   "execution_count": null,
   "metadata": {},
   "outputs": [],
   "source": []
  }
 ],
 "metadata": {
  "kernelspec": {
   "display_name": "db_covid19",
   "language": "python",
   "name": "db_covid19"
  },
  "language_info": {
   "codemirror_mode": {
    "name": "ipython",
    "version": 3
   },
   "file_extension": ".py",
   "mimetype": "text/x-python",
   "name": "python",
   "nbconvert_exporter": "python",
   "pygments_lexer": "ipython3",
   "version": "3.8.2"
  }
 },
 "nbformat": 4,
 "nbformat_minor": 4
}
