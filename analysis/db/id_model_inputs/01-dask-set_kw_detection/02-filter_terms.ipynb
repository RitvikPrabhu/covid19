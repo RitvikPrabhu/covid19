{
 "cells": [
  {
   "cell_type": "code",
   "execution_count": 1,
   "metadata": {
    "execution": {
     "iopub.execute_input": "2020-07-22T01:49:42.998353Z",
     "iopub.status.busy": "2020-07-22T01:49:42.998353Z",
     "iopub.status.idle": "2020-07-22T01:49:45.249613Z",
     "shell.execute_reply": "2020-07-22T01:49:45.248621Z",
     "shell.execute_reply.started": "2020-07-22T01:49:42.998353Z"
    }
   },
   "outputs": [],
   "source": [
    "from datetime import datetime\n",
    "import os\n",
    "\n",
    "import dask.dataframe as dd\n",
    "from dask.distributed import Client\n",
    "import numpy as np\n",
    "import pandas as pd\n",
    "from pyprojroot import here"
   ]
  },
  {
   "cell_type": "code",
   "execution_count": 2,
   "metadata": {
    "execution": {
     "iopub.execute_input": "2020-07-22T01:49:45.253609Z",
     "iopub.status.busy": "2020-07-22T01:49:45.252609Z",
     "iopub.status.idle": "2020-07-22T01:49:45.296608Z",
     "shell.execute_reply": "2020-07-22T01:49:45.295607Z",
     "shell.execute_reply.started": "2020-07-22T01:49:45.253609Z"
    }
   },
   "outputs": [
    {
     "data": {
      "text/plain": [
       "{'daniel': [['my name is daniel']],\n",
       " 'name': [['my name is daniel', 'your name is eric']]}"
      ]
     },
     "execution_count": 2,
     "metadata": {},
     "output_type": "execute_result"
    }
   ],
   "source": [
    "def extract_matched_sentences_i(sent_set, terms):\n",
    "    #breakpoint()\n",
    "    ss = [set(x) for x in sent_set]\n",
    "    term_idx = {k:[] for k in terms.keys()}\n",
    "    for idx, st in enumerate(ss):\n",
    "        for tm in terms.keys():\n",
    "            #print(idx, st, tm)\n",
    "            tm_st = set(tm.split(\" \"))\n",
    "            if tm_st.issubset(st):\n",
    "                term_idx[tm].append(idx)\n",
    "    return term_idx\n",
    "\n",
    "t1 = [['my', 'name', 'is', 'daniel'], ['your', 'name', 'is', 'eric']]\n",
    "t2 = {'daniel': True, 'name': True}\n",
    "extract_matched_sentences_i(t1, t2) == {'daniel': [0], 'name': [0, 1]}\n",
    "\n",
    "t3 = extract_matched_sentences_i(t1, t2)\n",
    "t3\n",
    "\n",
    "def extract_matched_sentences(sentences, term_idx_dict):\n",
    "    matched_sentences = {k: [] for k in term_idx_dict.keys()}\n",
    "    for tm, idx in term_idx_dict.items():\n",
    "        matched_sentences[tm].append(\n",
    "            [sentences[i] for i in idx]\n",
    "        )\n",
    "    return(matched_sentences)\n",
    "\n",
    "t4 = ['my name is daniel', 'your name is eric']\n",
    "\n",
    "extract_matched_sentences(t4, t3)"
   ]
  },
  {
   "cell_type": "code",
   "execution_count": 3,
   "metadata": {
    "execution": {
     "iopub.execute_input": "2020-07-22T01:49:45.300607Z",
     "iopub.status.busy": "2020-07-22T01:49:45.299607Z",
     "iopub.status.idle": "2020-07-22T01:49:49.350090Z",
     "shell.execute_reply": "2020-07-22T01:49:49.349088Z",
     "shell.execute_reply.started": "2020-07-22T01:49:45.300607Z"
    }
   },
   "outputs": [
    {
     "data": {
      "text/html": [
       "<table style=\"border: 2px solid white;\">\n",
       "<tr>\n",
       "<td style=\"vertical-align: top; border: 0px solid white\">\n",
       "<h3 style=\"text-align: left;\">Client</h3>\n",
       "<ul style=\"text-align: left; list-style: none; margin: 0; padding: 0;\">\n",
       "  <li><b>Scheduler: </b>tcp://127.0.0.1:57020</li>\n",
       "  <li><b>Dashboard: </b><a href='http://127.0.0.1:8787/status' target='_blank'>http://127.0.0.1:8787/status</a></li>\n",
       "</ul>\n",
       "</td>\n",
       "<td style=\"vertical-align: top; border: 0px solid white\">\n",
       "<h3 style=\"text-align: left;\">Cluster</h3>\n",
       "<ul style=\"text-align: left; list-style:none; margin: 0; padding: 0;\">\n",
       "  <li><b>Workers: </b>6</li>\n",
       "  <li><b>Cores: </b>6</li>\n",
       "  <li><b>Memory: </b>6.00 GB</li>\n",
       "</ul>\n",
       "</td>\n",
       "</tr>\n",
       "</table>"
      ],
      "text/plain": [
       "<Client: 'tcp://127.0.0.1:57020' processes=6 threads=6, memory=6.00 GB>"
      ]
     },
     "execution_count": 3,
     "metadata": {},
     "output_type": "execute_result"
    }
   ],
   "source": [
    "client = Client(n_workers=6, threads_per_worker=1, memory_limit='1GB')\n",
    "client"
   ]
  },
  {
   "cell_type": "code",
   "execution_count": 4,
   "metadata": {
    "execution": {
     "iopub.execute_input": "2020-07-22T01:49:49.354090Z",
     "iopub.status.busy": "2020-07-22T01:49:49.353091Z",
     "iopub.status.idle": "2020-07-22T01:49:49.367089Z",
     "shell.execute_reply": "2020-07-22T01:49:49.365094Z",
     "shell.execute_reply.started": "2020-07-22T01:49:49.354090Z"
    }
   },
   "outputs": [],
   "source": [
    "files = str(here(\"./data/db/working/kaggle/id_model_inputs/01-04-found_terms.json.gzip\"))\n",
    "pth = os.path.join(files, \"*.part\")"
   ]
  },
  {
   "cell_type": "code",
   "execution_count": 5,
   "metadata": {
    "execution": {
     "iopub.execute_input": "2020-07-22T01:49:49.370090Z",
     "iopub.status.busy": "2020-07-22T01:49:49.369099Z",
     "iopub.status.idle": "2020-07-22T01:49:51.906089Z",
     "shell.execute_reply": "2020-07-22T01:49:51.904089Z",
     "shell.execute_reply.started": "2020-07-22T01:49:49.370090Z"
    }
   },
   "outputs": [],
   "source": [
    "paper_df = dd.read_json(pth, compression=\"gzip\")"
   ]
  },
  {
   "cell_type": "code",
   "execution_count": 6,
   "metadata": {
    "execution": {
     "iopub.execute_input": "2020-07-22T01:49:51.909093Z",
     "iopub.status.busy": "2020-07-22T01:49:51.909093Z",
     "iopub.status.idle": "2020-07-22T01:49:51.939091Z",
     "shell.execute_reply": "2020-07-22T01:49:51.936090Z",
     "shell.execute_reply.started": "2020-07-22T01:49:51.909093Z"
    }
   },
   "outputs": [],
   "source": [
    "# about 6k rows\n",
    "found_terms = (paper_df\n",
    "                   .loc[paper_df[\"found_terms\"] != {}]\n",
    "                   .repartition(npartitions=paper_df.npartitions // 10)\n",
    "              )"
   ]
  },
  {
   "cell_type": "code",
   "execution_count": 7,
   "metadata": {
    "execution": {
     "iopub.execute_input": "2020-07-22T01:49:51.943093Z",
     "iopub.status.busy": "2020-07-22T01:49:51.942094Z",
     "iopub.status.idle": "2020-07-22T01:49:51.967088Z",
     "shell.execute_reply": "2020-07-22T01:49:51.965107Z",
     "shell.execute_reply.started": "2020-07-22T01:49:51.943093Z"
    }
   },
   "outputs": [],
   "source": [
    "# found_terms[\"found_sent_idx\"] = np.vectorize(extract_matched_sentences_i)(found_terms[\"sent_set\"], found_terms[\"found_terms\"])\n",
    "found_terms[\"found_sent_idx\"] = found_terms.map_partitions(lambda df: np.vectorize(extract_matched_sentences_i)(df[\"sent_set\"], df[\"found_terms\"]), meta=\"object\")"
   ]
  },
  {
   "cell_type": "code",
   "execution_count": 8,
   "metadata": {
    "execution": {
     "iopub.execute_input": "2020-07-22T01:49:51.971092Z",
     "iopub.status.busy": "2020-07-22T01:49:51.970096Z",
     "iopub.status.idle": "2020-07-22T01:49:52.014092Z",
     "shell.execute_reply": "2020-07-22T01:49:52.012090Z",
     "shell.execute_reply.started": "2020-07-22T01:49:51.971092Z"
    }
   },
   "outputs": [],
   "source": [
    "# found_terms[\"found_sent\"] = np.vectorize(extract_matched_sentences)(found_terms[\"text_sent_lower\"], found_terms[\"found_sent_idx\"])\n",
    "found_terms[\"found_sent\"] = found_terms.map_partitions(lambda df: np.vectorize(extract_matched_sentences)(df[\"text_sent_lower\"], df[\"found_sent_idx\"]), meta=\"object\")"
   ]
  },
  {
   "cell_type": "code",
   "execution_count": 9,
   "metadata": {
    "execution": {
     "iopub.execute_input": "2020-07-22T00:13:25.119418Z",
     "iopub.status.busy": "2020-07-22T00:13:25.119418Z",
     "iopub.status.idle": "2020-07-22T00:13:25.133364Z",
     "shell.execute_reply": "2020-07-22T00:13:25.131364Z",
     "shell.execute_reply.started": "2020-07-22T00:13:25.119418Z"
    }
   },
   "outputs": [],
   "source": [
    "#found_terms.visualize()"
   ]
  },
  {
   "cell_type": "code",
   "execution_count": 9,
   "metadata": {
    "execution": {
     "iopub.execute_input": "2020-07-22T01:50:05.075680Z",
     "iopub.status.busy": "2020-07-22T01:50:05.074640Z",
     "iopub.status.idle": "2020-07-22T01:52:33.054618Z",
     "shell.execute_reply": "2020-07-22T01:52:33.048624Z",
     "shell.execute_reply.started": "2020-07-22T01:50:05.075680Z"
    }
   },
   "outputs": [
    {
     "name": "stdout",
     "output_type": "stream",
     "text": [
      "Duration: 0:02:27.939942\n"
     ]
    }
   ],
   "source": [
    "start_time = datetime.now()\n",
    "\n",
    "pth = str(here(\"./data/db/working/kaggle/id_model_inputs/02-found_sentences.json.gzip\", warn=False))\n",
    "found_terms.to_json(pth, compression=\"gzip\") # about 3 minutes\n",
    "\n",
    "end_time = datetime.now()\n",
    "print('Duration: {}'.format(end_time - start_time))"
   ]
  },
  {
   "cell_type": "code",
   "execution_count": 10,
   "metadata": {
    "execution": {
     "iopub.execute_input": "2020-07-22T01:52:33.061616Z",
     "iopub.status.busy": "2020-07-22T01:52:33.059617Z",
     "iopub.status.idle": "2020-07-22T01:52:35.360687Z",
     "shell.execute_reply": "2020-07-22T01:52:35.357683Z",
     "shell.execute_reply.started": "2020-07-22T01:52:33.060616Z"
    }
   },
   "outputs": [
    {
     "name": "stderr",
     "output_type": "stream",
     "text": [
      "distributed.client - ERROR - Failed to reconnect to scheduler after 10.00 seconds, closing client\n",
      "_GatheringFuture exception was never retrieved\n",
      "future: <_GatheringFuture finished exception=CancelledError()>\n",
      "asyncio.exceptions.CancelledError\n"
     ]
    }
   ],
   "source": [
    "client.shutdown()"
   ]
  }
 ],
 "metadata": {
  "kernelspec": {
   "display_name": "db_covid19",
   "language": "python",
   "name": "db_covid19"
  },
  "language_info": {
   "codemirror_mode": {
    "name": "ipython",
    "version": 3
   },
   "file_extension": ".py",
   "mimetype": "text/x-python",
   "name": "python",
   "nbconvert_exporter": "python",
   "pygments_lexer": "ipython3",
   "version": "3.8.2"
  }
 },
 "nbformat": 4,
 "nbformat_minor": 4
}
