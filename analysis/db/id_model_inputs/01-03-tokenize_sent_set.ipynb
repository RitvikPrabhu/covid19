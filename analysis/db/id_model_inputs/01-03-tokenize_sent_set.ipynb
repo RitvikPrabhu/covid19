{
 "cells": [
  {
   "cell_type": "code",
   "execution_count": 1,
   "metadata": {
    "execution": {
     "iopub.execute_input": "2020-07-20T23:55:09.470189Z",
     "iopub.status.busy": "2020-07-20T23:55:09.469193Z",
     "iopub.status.idle": "2020-07-20T23:55:13.169215Z",
     "shell.execute_reply": "2020-07-20T23:55:13.168278Z",
     "shell.execute_reply.started": "2020-07-20T23:55:09.470189Z"
    }
   },
   "outputs": [],
   "source": [
    "from datetime import datetime\n",
    "import os\n",
    "\n",
    "import dask.dataframe as dd\n",
    "from dask.distributed import Client\n",
    "import json\n",
    "from nltk.tokenize import word_tokenize\n",
    "import numpy as np\n",
    "import pandas as pd\n",
    "from pyprojroot import here"
   ]
  },
  {
   "cell_type": "code",
   "execution_count": 2,
   "metadata": {
    "execution": {
     "iopub.execute_input": "2020-07-20T23:55:13.172228Z",
     "iopub.status.busy": "2020-07-20T23:55:13.172228Z",
     "iopub.status.idle": "2020-07-20T23:55:13.185216Z",
     "shell.execute_reply": "2020-07-20T23:55:13.184212Z",
     "shell.execute_reply.started": "2020-07-20T23:55:13.172228Z"
    }
   },
   "outputs": [],
   "source": [
    "def sent_list_to_list_set_tokens(list_of_sentences):\n",
    "    return [set(word_tokenize(sent)) for sent in list_of_sentences]"
   ]
  },
  {
   "cell_type": "code",
   "execution_count": 3,
   "metadata": {
    "execution": {
     "iopub.execute_input": "2020-07-20T23:55:13.189212Z",
     "iopub.status.busy": "2020-07-20T23:55:13.188217Z",
     "iopub.status.idle": "2020-07-20T23:55:17.393235Z",
     "shell.execute_reply": "2020-07-20T23:55:17.391239Z",
     "shell.execute_reply.started": "2020-07-20T23:55:13.188217Z"
    }
   },
   "outputs": [
    {
     "data": {
      "text/html": [
       "<table style=\"border: 2px solid white;\">\n",
       "<tr>\n",
       "<td style=\"vertical-align: top; border: 0px solid white\">\n",
       "<h3 style=\"text-align: left;\">Client</h3>\n",
       "<ul style=\"text-align: left; list-style: none; margin: 0; padding: 0;\">\n",
       "  <li><b>Scheduler: </b>tcp://127.0.0.1:64633</li>\n",
       "  <li><b>Dashboard: </b><a href='http://127.0.0.1:8787/status' target='_blank'>http://127.0.0.1:8787/status</a></li>\n",
       "</ul>\n",
       "</td>\n",
       "<td style=\"vertical-align: top; border: 0px solid white\">\n",
       "<h3 style=\"text-align: left;\">Cluster</h3>\n",
       "<ul style=\"text-align: left; list-style:none; margin: 0; padding: 0;\">\n",
       "  <li><b>Workers: </b>6</li>\n",
       "  <li><b>Cores: </b>6</li>\n",
       "  <li><b>Memory: </b>6.00 GB</li>\n",
       "</ul>\n",
       "</td>\n",
       "</tr>\n",
       "</table>"
      ],
      "text/plain": [
       "<Client: 'tcp://127.0.0.1:64633' processes=6 threads=6, memory=6.00 GB>"
      ]
     },
     "execution_count": 3,
     "metadata": {},
     "output_type": "execute_result"
    }
   ],
   "source": [
    "from dask.distributed import Client\n",
    "\n",
    "client = Client(n_workers=6, threads_per_worker=1, memory_limit='1GB')\n",
    "client"
   ]
  },
  {
   "cell_type": "code",
   "execution_count": 4,
   "metadata": {
    "execution": {
     "iopub.execute_input": "2020-07-20T23:55:17.396254Z",
     "iopub.status.busy": "2020-07-20T23:55:17.395239Z",
     "iopub.status.idle": "2020-07-20T23:55:17.425239Z",
     "shell.execute_reply": "2020-07-20T23:55:17.423251Z",
     "shell.execute_reply.started": "2020-07-20T23:55:17.396254Z"
    }
   },
   "outputs": [],
   "source": [
    "files = str(here(\"./data/db/working/kaggle/id_model_inputs/01-02-split_sentences.json.gzip\"))\n",
    "pth = os.path.join(files, \"*.part\")"
   ]
  },
  {
   "cell_type": "code",
   "execution_count": 5,
   "metadata": {
    "execution": {
     "iopub.execute_input": "2020-07-20T23:55:17.428245Z",
     "iopub.status.busy": "2020-07-20T23:55:17.427243Z",
     "iopub.status.idle": "2020-07-20T23:55:19.587246Z",
     "shell.execute_reply": "2020-07-20T23:55:19.584281Z",
     "shell.execute_reply.started": "2020-07-20T23:55:17.428245Z"
    }
   },
   "outputs": [],
   "source": [
    "paper_df = dd.read_json(pth, compression=\"gzip\")"
   ]
  },
  {
   "cell_type": "code",
   "execution_count": 6,
   "metadata": {
    "execution": {
     "iopub.execute_input": "2020-07-20T23:55:19.589271Z",
     "iopub.status.busy": "2020-07-20T23:55:19.588261Z",
     "iopub.status.idle": "2020-07-20T23:55:19.635255Z",
     "shell.execute_reply": "2020-07-20T23:55:19.633252Z",
     "shell.execute_reply.started": "2020-07-20T23:55:19.589271Z"
    }
   },
   "outputs": [
    {
     "data": {
      "text/html": [
       "<div><strong>Dask DataFrame Structure:</strong></div>\n",
       "<div>\n",
       "<style scoped>\n",
       "    .dataframe tbody tr th:only-of-type {\n",
       "        vertical-align: middle;\n",
       "    }\n",
       "\n",
       "    .dataframe tbody tr th {\n",
       "        vertical-align: top;\n",
       "    }\n",
       "\n",
       "    .dataframe thead th {\n",
       "        text-align: right;\n",
       "    }\n",
       "</style>\n",
       "<table border=\"1\" class=\"dataframe\">\n",
       "  <thead>\n",
       "    <tr style=\"text-align: right;\">\n",
       "      <th></th>\n",
       "      <th>pid</th>\n",
       "      <th>num_authors</th>\n",
       "      <th>title</th>\n",
       "      <th>text</th>\n",
       "      <th>text_sent_lower</th>\n",
       "    </tr>\n",
       "    <tr>\n",
       "      <th>npartitions=985</th>\n",
       "      <th></th>\n",
       "      <th></th>\n",
       "      <th></th>\n",
       "      <th></th>\n",
       "      <th></th>\n",
       "    </tr>\n",
       "  </thead>\n",
       "  <tbody>\n",
       "    <tr>\n",
       "      <th></th>\n",
       "      <td>object</td>\n",
       "      <td>int64</td>\n",
       "      <td>object</td>\n",
       "      <td>object</td>\n",
       "      <td>object</td>\n",
       "    </tr>\n",
       "    <tr>\n",
       "      <th></th>\n",
       "      <td>...</td>\n",
       "      <td>...</td>\n",
       "      <td>...</td>\n",
       "      <td>...</td>\n",
       "      <td>...</td>\n",
       "    </tr>\n",
       "    <tr>\n",
       "      <th>...</th>\n",
       "      <td>...</td>\n",
       "      <td>...</td>\n",
       "      <td>...</td>\n",
       "      <td>...</td>\n",
       "      <td>...</td>\n",
       "    </tr>\n",
       "    <tr>\n",
       "      <th></th>\n",
       "      <td>...</td>\n",
       "      <td>...</td>\n",
       "      <td>...</td>\n",
       "      <td>...</td>\n",
       "      <td>...</td>\n",
       "    </tr>\n",
       "    <tr>\n",
       "      <th></th>\n",
       "      <td>...</td>\n",
       "      <td>...</td>\n",
       "      <td>...</td>\n",
       "      <td>...</td>\n",
       "      <td>...</td>\n",
       "    </tr>\n",
       "  </tbody>\n",
       "</table>\n",
       "</div>\n",
       "<div>Dask Name: from-delayed, 1970 tasks</div>"
      ],
      "text/plain": [
       "Dask DataFrame Structure:\n",
       "                    pid num_authors   title    text text_sent_lower\n",
       "npartitions=985                                                    \n",
       "                 object       int64  object  object          object\n",
       "                    ...         ...     ...     ...             ...\n",
       "...                 ...         ...     ...     ...             ...\n",
       "                    ...         ...     ...     ...             ...\n",
       "                    ...         ...     ...     ...             ...\n",
       "Dask Name: from-delayed, 1970 tasks"
      ]
     },
     "execution_count": 6,
     "metadata": {},
     "output_type": "execute_result"
    }
   ],
   "source": [
    "paper_df"
   ]
  },
  {
   "cell_type": "code",
   "execution_count": 7,
   "metadata": {
    "execution": {
     "iopub.execute_input": "2020-07-20T23:55:19.637255Z",
     "iopub.status.busy": "2020-07-20T23:55:19.637255Z",
     "iopub.status.idle": "2020-07-20T23:55:19.855262Z",
     "shell.execute_reply": "2020-07-20T23:55:19.853260Z",
     "shell.execute_reply.started": "2020-07-20T23:55:19.637255Z"
    }
   },
   "outputs": [
    {
     "data": {
      "text/html": [
       "<div>\n",
       "<style scoped>\n",
       "    .dataframe tbody tr th:only-of-type {\n",
       "        vertical-align: middle;\n",
       "    }\n",
       "\n",
       "    .dataframe tbody tr th {\n",
       "        vertical-align: top;\n",
       "    }\n",
       "\n",
       "    .dataframe thead th {\n",
       "        text-align: right;\n",
       "    }\n",
       "</style>\n",
       "<table border=\"1\" class=\"dataframe\">\n",
       "  <thead>\n",
       "    <tr style=\"text-align: right;\">\n",
       "      <th></th>\n",
       "      <th>pid</th>\n",
       "      <th>num_authors</th>\n",
       "      <th>title</th>\n",
       "      <th>text</th>\n",
       "      <th>text_sent_lower</th>\n",
       "    </tr>\n",
       "  </thead>\n",
       "  <tbody>\n",
       "    <tr>\n",
       "      <th>0</th>\n",
       "      <td>PMC1054884</td>\n",
       "      <td>7</td>\n",
       "      <td>Recombination Every Day: Abundant Recombinatio...</td>\n",
       "      <td>As increasing numbers of full-length viral seq...</td>\n",
       "      <td>[as increasing numbers of full-length viral se...</td>\n",
       "    </tr>\n",
       "    <tr>\n",
       "      <th>1</th>\n",
       "      <td>PMC1065028</td>\n",
       "      <td>1</td>\n",
       "      <td>Why can't I visit? The ethics of visitation re...</td>\n",
       "      <td>The sudden emergence of severe acute respirato...</td>\n",
       "      <td>[the sudden emergence of severe acute respirat...</td>\n",
       "    </tr>\n",
       "    <tr>\n",
       "      <th>2</th>\n",
       "      <td>PMC1065064</td>\n",
       "      <td>8</td>\n",
       "      <td>Prospective evaluation of an internet-linked h...</td>\n",
       "      <td>The rate of expansion of medical knowledge is ...</td>\n",
       "      <td>[the rate of expansion of medical knowledge is...</td>\n",
       "    </tr>\n",
       "    <tr>\n",
       "      <th>3</th>\n",
       "      <td>PMC1065120</td>\n",
       "      <td>4</td>\n",
       "      <td>Scanning the horizon: emerging hospital-wide t...</td>\n",
       "      <td>This series of articles provides regular surve...</td>\n",
       "      <td>[this series of articles provides regular surv...</td>\n",
       "    </tr>\n",
       "    <tr>\n",
       "      <th>4</th>\n",
       "      <td>PMC1065257</td>\n",
       "      <td>3</td>\n",
       "      <td>Characterization of the frameshift signal of E...</td>\n",
       "      <td>Programmed −1 ribosomal frameshifting (hereaft...</td>\n",
       "      <td>[programmed −1 ribosomal frameshifting (hereaf...</td>\n",
       "    </tr>\n",
       "  </tbody>\n",
       "</table>\n",
       "</div>"
      ],
      "text/plain": [
       "          pid  num_authors                                              title  \\\n",
       "0  PMC1054884            7  Recombination Every Day: Abundant Recombinatio...   \n",
       "1  PMC1065028            1  Why can't I visit? The ethics of visitation re...   \n",
       "2  PMC1065064            8  Prospective evaluation of an internet-linked h...   \n",
       "3  PMC1065120            4  Scanning the horizon: emerging hospital-wide t...   \n",
       "4  PMC1065257            3  Characterization of the frameshift signal of E...   \n",
       "\n",
       "                                                text  \\\n",
       "0  As increasing numbers of full-length viral seq...   \n",
       "1  The sudden emergence of severe acute respirato...   \n",
       "2  The rate of expansion of medical knowledge is ...   \n",
       "3  This series of articles provides regular surve...   \n",
       "4  Programmed −1 ribosomal frameshifting (hereaft...   \n",
       "\n",
       "                                     text_sent_lower  \n",
       "0  [as increasing numbers of full-length viral se...  \n",
       "1  [the sudden emergence of severe acute respirat...  \n",
       "2  [the rate of expansion of medical knowledge is...  \n",
       "3  [this series of articles provides regular surv...  \n",
       "4  [programmed −1 ribosomal frameshifting (hereaf...  "
      ]
     },
     "execution_count": 7,
     "metadata": {},
     "output_type": "execute_result"
    }
   ],
   "source": [
    "paper_df.head()"
   ]
  },
  {
   "cell_type": "code",
   "execution_count": 8,
   "metadata": {
    "execution": {
     "iopub.execute_input": "2020-07-20T23:55:19.858264Z",
     "iopub.status.busy": "2020-07-20T23:55:19.858264Z",
     "iopub.status.idle": "2020-07-20T23:55:19.981252Z",
     "shell.execute_reply": "2020-07-20T23:55:19.979266Z",
     "shell.execute_reply.started": "2020-07-20T23:55:19.858264Z"
    }
   },
   "outputs": [
    {
     "data": {
      "text/html": [
       "<div>\n",
       "<style scoped>\n",
       "    .dataframe tbody tr th:only-of-type {\n",
       "        vertical-align: middle;\n",
       "    }\n",
       "\n",
       "    .dataframe tbody tr th {\n",
       "        vertical-align: top;\n",
       "    }\n",
       "\n",
       "    .dataframe thead th {\n",
       "        text-align: right;\n",
       "    }\n",
       "</style>\n",
       "<table border=\"1\" class=\"dataframe\">\n",
       "  <thead>\n",
       "    <tr style=\"text-align: right;\">\n",
       "      <th></th>\n",
       "      <th>pid</th>\n",
       "      <th>num_authors</th>\n",
       "      <th>title</th>\n",
       "      <th>text</th>\n",
       "      <th>text_sent_lower</th>\n",
       "    </tr>\n",
       "  </thead>\n",
       "  <tbody>\n",
       "    <tr>\n",
       "      <th>12</th>\n",
       "      <td>PMC7299382</td>\n",
       "      <td>60</td>\n",
       "      <td>Wastewater-Based Epidemiology: Global Collabor...</td>\n",
       "      <td>Severe acute respiratory syndrome coronavirus ...</td>\n",
       "      <td>[severe acute respiratory syndrome coronavirus...</td>\n",
       "    </tr>\n",
       "    <tr>\n",
       "      <th>13</th>\n",
       "      <td>PMC7299394</td>\n",
       "      <td>12</td>\n",
       "      <td>Proinflammatory Cytokines in the Olfactory Muc...</td>\n",
       "      <td>This was a case series of COVID-19 patients ad...</td>\n",
       "      <td>[this was a case series of covid-19 patients a...</td>\n",
       "    </tr>\n",
       "    <tr>\n",
       "      <th>14</th>\n",
       "      <td>PMC7299395</td>\n",
       "      <td>15</td>\n",
       "      <td>Novel One-Step Single-Tube Nested Quantitative...</td>\n",
       "      <td>The specificity evaluation panel preserved in ...</td>\n",
       "      <td>[the specificity evaluation panel preserved in...</td>\n",
       "    </tr>\n",
       "    <tr>\n",
       "      <th>15</th>\n",
       "      <td>PMC7299396</td>\n",
       "      <td>6</td>\n",
       "      <td>Biosensors for Managing the COVID-19 Cytokine ...</td>\n",
       "      <td>SARS-CoV-2 infects epithelial lung cells via s...</td>\n",
       "      <td>[sars-cov-2 infects epithelial lung cells via ...</td>\n",
       "    </tr>\n",
       "    <tr>\n",
       "      <th>16</th>\n",
       "      <td>PMC7299399</td>\n",
       "      <td>17</td>\n",
       "      <td>Toward Nanotechnology-Enabled Approaches again...</td>\n",
       "      <td>Through millions of years of evolution, viruse...</td>\n",
       "      <td>[through millions of years of evolution, virus...</td>\n",
       "    </tr>\n",
       "  </tbody>\n",
       "</table>\n",
       "</div>"
      ],
      "text/plain": [
       "           pid  num_authors  \\\n",
       "12  PMC7299382           60   \n",
       "13  PMC7299394           12   \n",
       "14  PMC7299395           15   \n",
       "15  PMC7299396            6   \n",
       "16  PMC7299399           17   \n",
       "\n",
       "                                                title  \\\n",
       "12  Wastewater-Based Epidemiology: Global Collabor...   \n",
       "13  Proinflammatory Cytokines in the Olfactory Muc...   \n",
       "14  Novel One-Step Single-Tube Nested Quantitative...   \n",
       "15  Biosensors for Managing the COVID-19 Cytokine ...   \n",
       "16  Toward Nanotechnology-Enabled Approaches again...   \n",
       "\n",
       "                                                 text  \\\n",
       "12  Severe acute respiratory syndrome coronavirus ...   \n",
       "13  This was a case series of COVID-19 patients ad...   \n",
       "14  The specificity evaluation panel preserved in ...   \n",
       "15  SARS-CoV-2 infects epithelial lung cells via s...   \n",
       "16  Through millions of years of evolution, viruse...   \n",
       "\n",
       "                                      text_sent_lower  \n",
       "12  [severe acute respiratory syndrome coronavirus...  \n",
       "13  [this was a case series of covid-19 patients a...  \n",
       "14  [the specificity evaluation panel preserved in...  \n",
       "15  [sars-cov-2 infects epithelial lung cells via ...  \n",
       "16  [through millions of years of evolution, virus...  "
      ]
     },
     "execution_count": 8,
     "metadata": {},
     "output_type": "execute_result"
    }
   ],
   "source": [
    "paper_df.tail()"
   ]
  },
  {
   "cell_type": "code",
   "execution_count": 9,
   "metadata": {
    "execution": {
     "iopub.execute_input": "2020-07-20T23:55:19.984253Z",
     "iopub.status.busy": "2020-07-20T23:55:19.984253Z",
     "iopub.status.idle": "2020-07-20T23:55:20.013256Z",
     "shell.execute_reply": "2020-07-20T23:55:20.011253Z",
     "shell.execute_reply.started": "2020-07-20T23:55:19.984253Z"
    }
   },
   "outputs": [],
   "source": [
    "paper_df['sent_set'] = paper_df['text_sent_lower'].map_partitions(lambda s: s.apply(sent_list_to_list_set_tokens), meta=\"object\")"
   ]
  },
  {
   "cell_type": "code",
   "execution_count": 10,
   "metadata": {
    "execution": {
     "iopub.execute_input": "2020-07-20T23:55:20.016255Z",
     "iopub.status.busy": "2020-07-20T23:55:20.015260Z",
     "iopub.status.idle": "2020-07-20T23:55:20.029254Z",
     "shell.execute_reply": "2020-07-20T23:55:20.027254Z",
     "shell.execute_reply.started": "2020-07-20T23:55:20.016255Z"
    }
   },
   "outputs": [],
   "source": [
    "# paper_df.head()"
   ]
  },
  {
   "cell_type": "code",
   "execution_count": 11,
   "metadata": {
    "execution": {
     "iopub.execute_input": "2020-07-20T23:55:20.032253Z",
     "iopub.status.busy": "2020-07-20T23:55:20.031253Z",
     "iopub.status.idle": "2020-07-21T00:12:29.684687Z",
     "shell.execute_reply": "2020-07-21T00:12:29.676700Z",
     "shell.execute_reply.started": "2020-07-20T23:55:20.032253Z"
    }
   },
   "outputs": [
    {
     "name": "stdout",
     "output_type": "stream",
     "text": [
      "Duration: 0:17:09.619429\n"
     ]
    }
   ],
   "source": [
    "start_time = datetime.now()\n",
    "\n",
    "paper_df.to_json(str(here(\"./data/db/working/kaggle/id_model_inputs/01-03-tokenize_sentences.json.gzip\", warn=False)), compression=\"gzip\") # about 17 minutes\n",
    "\n",
    "end_time = datetime.now()\n",
    "print('Duration: {}'.format(end_time - start_time))"
   ]
  },
  {
   "cell_type": "code",
   "execution_count": 12,
   "metadata": {
    "execution": {
     "iopub.execute_input": "2020-07-21T00:12:29.688682Z",
     "iopub.status.busy": "2020-07-21T00:12:29.687688Z",
     "iopub.status.idle": "2020-07-21T00:12:33.429964Z",
     "shell.execute_reply": "2020-07-21T00:12:33.428034Z",
     "shell.execute_reply.started": "2020-07-21T00:12:29.688682Z"
    }
   },
   "outputs": [],
   "source": [
    "client.shutdown()"
   ]
  },
  {
   "cell_type": "code",
   "execution_count": null,
   "metadata": {},
   "outputs": [],
   "source": []
  }
 ],
 "metadata": {
  "kernelspec": {
   "display_name": "db_covid19",
   "language": "python",
   "name": "db_covid19"
  },
  "language_info": {
   "codemirror_mode": {
    "name": "ipython",
    "version": 3
   },
   "file_extension": ".py",
   "mimetype": "text/x-python",
   "name": "python",
   "nbconvert_exporter": "python",
   "pygments_lexer": "ipython3",
   "version": "3.8.2"
  }
 },
 "nbformat": 4,
 "nbformat_minor": 4
}
