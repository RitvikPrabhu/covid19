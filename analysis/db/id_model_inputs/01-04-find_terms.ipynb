{
 "cells": [
  {
   "cell_type": "code",
   "execution_count": 1,
   "metadata": {
    "execution": {
     "iopub.execute_input": "2020-07-21T00:13:06.489297Z",
     "iopub.status.busy": "2020-07-21T00:13:06.489297Z",
     "iopub.status.idle": "2020-07-21T00:13:09.999302Z",
     "shell.execute_reply": "2020-07-21T00:13:09.998308Z",
     "shell.execute_reply.started": "2020-07-21T00:13:06.489297Z"
    }
   },
   "outputs": [],
   "source": [
    "from datetime import datetime\n",
    "import os\n",
    "\n",
    "import dask.dataframe as dd\n",
    "from dask.distributed import Client\n",
    "from nltk.tokenize import word_tokenize\n",
    "from pyprojroot import here"
   ]
  },
  {
   "cell_type": "code",
   "execution_count": 2,
   "metadata": {
    "execution": {
     "iopub.execute_input": "2020-07-21T00:13:10.006300Z",
     "iopub.status.busy": "2020-07-21T00:13:10.006300Z",
     "iopub.status.idle": "2020-07-21T00:13:10.048300Z",
     "shell.execute_reply": "2020-07-21T00:13:10.046299Z",
     "shell.execute_reply.started": "2020-07-21T00:13:10.006300Z"
    }
   },
   "outputs": [],
   "source": [
    "def find_set_in_list(sent_set, terms):\n",
    "    \"\"\"Determins if a term exists in a list of sentences\n",
    "    \"\"\"\n",
    "    matches = {}\n",
    "    for trm in terms:\n",
    "        trm_set = set(trm.split(\" \"))\n",
    "        for st in sent_set:\n",
    "            if (trm_set.issubset(st)):\n",
    "                matches[trm] = True\n",
    "                break # if there is a pattern match go to the next term\n",
    "    return(matches)\n",
    "\n",
    "\n",
    "# testing function\n",
    "test_sent = ['dan hello', 'hello you', 'the quick brown fox', 'my I have a word?']\n",
    "test_sent_set = [set(word_tokenize(sent)) for sent in test_sent]\n",
    "assert find_set_in_list(test_sent_set,\n",
    "                        ['hello dan', 'fox', 'tom nook', 'word']) == {\n",
    "                          'hello dan': True,\n",
    "                          'fox': True,\n",
    "                          'word': True,\n",
    "                        }"
   ]
  },
  {
   "cell_type": "code",
   "execution_count": 3,
   "metadata": {
    "execution": {
     "iopub.execute_input": "2020-07-21T00:13:10.051304Z",
     "iopub.status.busy": "2020-07-21T00:13:10.050300Z",
     "iopub.status.idle": "2020-07-21T00:13:10.063300Z",
     "shell.execute_reply": "2020-07-21T00:13:10.062340Z",
     "shell.execute_reply.started": "2020-07-21T00:13:10.051304Z"
    }
   },
   "outputs": [],
   "source": [
    "# search for terms\n",
    "search_terms = [\n",
    "    \"incubation period\",\n",
    "    \"infectiousness period\",\n",
    "    \"recovery rate\",\n",
    "    \"case fatality ratio\",\n",
    "    \"case fatality rate\",\n",
    "    \"asymptomatic fraction\",\n",
    "    \"asymptomatic proportion\",\n",
    "    \"asymptomatic ratio\",\n",
    "    \"hospitalized fraction\",\n",
    "    \"hospitalized proportion\",\n",
    "    \"latent period\",\n",
    "]"
   ]
  },
  {
   "cell_type": "code",
   "execution_count": 4,
   "metadata": {
    "execution": {
     "iopub.execute_input": "2020-07-21T00:13:10.067301Z",
     "iopub.status.busy": "2020-07-21T00:13:10.066300Z",
     "iopub.status.idle": "2020-07-21T00:13:14.389319Z",
     "shell.execute_reply": "2020-07-21T00:13:14.387360Z",
     "shell.execute_reply.started": "2020-07-21T00:13:10.067301Z"
    }
   },
   "outputs": [
    {
     "data": {
      "text/html": [
       "<table style=\"border: 2px solid white;\">\n",
       "<tr>\n",
       "<td style=\"vertical-align: top; border: 0px solid white\">\n",
       "<h3 style=\"text-align: left;\">Client</h3>\n",
       "<ul style=\"text-align: left; list-style: none; margin: 0; padding: 0;\">\n",
       "  <li><b>Scheduler: </b>tcp://127.0.0.1:49580</li>\n",
       "  <li><b>Dashboard: </b><a href='http://127.0.0.1:8787/status' target='_blank'>http://127.0.0.1:8787/status</a></li>\n",
       "</ul>\n",
       "</td>\n",
       "<td style=\"vertical-align: top; border: 0px solid white\">\n",
       "<h3 style=\"text-align: left;\">Cluster</h3>\n",
       "<ul style=\"text-align: left; list-style:none; margin: 0; padding: 0;\">\n",
       "  <li><b>Workers: </b>6</li>\n",
       "  <li><b>Cores: </b>6</li>\n",
       "  <li><b>Memory: </b>6.00 GB</li>\n",
       "</ul>\n",
       "</td>\n",
       "</tr>\n",
       "</table>"
      ],
      "text/plain": [
       "<Client: 'tcp://127.0.0.1:49580' processes=6 threads=6, memory=6.00 GB>"
      ]
     },
     "execution_count": 4,
     "metadata": {},
     "output_type": "execute_result"
    }
   ],
   "source": [
    "client = Client(n_workers=6, threads_per_worker=1, memory_limit='1GB')\n",
    "client"
   ]
  },
  {
   "cell_type": "code",
   "execution_count": 5,
   "metadata": {
    "execution": {
     "iopub.execute_input": "2020-07-21T00:13:17.342203Z",
     "iopub.status.busy": "2020-07-21T00:13:17.341251Z",
     "iopub.status.idle": "2020-07-21T00:13:17.361206Z",
     "shell.execute_reply": "2020-07-21T00:13:17.357199Z",
     "shell.execute_reply.started": "2020-07-21T00:13:17.342203Z"
    }
   },
   "outputs": [],
   "source": [
    "files =str(here(\"./data/db/working/kaggle/id_model_inputs/01-03-tokenize_sentences.json.gzip\"))\n",
    "pth = os.path.join(files, \"*.part\")"
   ]
  },
  {
   "cell_type": "code",
   "execution_count": 6,
   "metadata": {
    "execution": {
     "iopub.execute_input": "2020-07-21T00:13:17.878527Z",
     "iopub.status.busy": "2020-07-21T00:13:17.878527Z",
     "iopub.status.idle": "2020-07-21T00:13:20.250534Z",
     "shell.execute_reply": "2020-07-21T00:13:20.246533Z",
     "shell.execute_reply.started": "2020-07-21T00:13:17.878527Z"
    }
   },
   "outputs": [],
   "source": [
    "paper_df = dd.read_json(pth, compression=\"gzip\")"
   ]
  },
  {
   "cell_type": "code",
   "execution_count": 7,
   "metadata": {
    "execution": {
     "iopub.execute_input": "2020-07-21T00:13:20.255537Z",
     "iopub.status.busy": "2020-07-21T00:13:20.254535Z",
     "iopub.status.idle": "2020-07-21T00:13:21.154536Z",
     "shell.execute_reply": "2020-07-21T00:13:21.151536Z",
     "shell.execute_reply.started": "2020-07-21T00:13:20.255537Z"
    }
   },
   "outputs": [
    {
     "data": {
      "text/html": [
       "<div>\n",
       "<style scoped>\n",
       "    .dataframe tbody tr th:only-of-type {\n",
       "        vertical-align: middle;\n",
       "    }\n",
       "\n",
       "    .dataframe tbody tr th {\n",
       "        vertical-align: top;\n",
       "    }\n",
       "\n",
       "    .dataframe thead th {\n",
       "        text-align: right;\n",
       "    }\n",
       "</style>\n",
       "<table border=\"1\" class=\"dataframe\">\n",
       "  <thead>\n",
       "    <tr style=\"text-align: right;\">\n",
       "      <th></th>\n",
       "      <th>pid</th>\n",
       "      <th>num_authors</th>\n",
       "      <th>title</th>\n",
       "      <th>text</th>\n",
       "      <th>text_sent_lower</th>\n",
       "      <th>sent_set</th>\n",
       "    </tr>\n",
       "  </thead>\n",
       "  <tbody>\n",
       "    <tr>\n",
       "      <th>0</th>\n",
       "      <td>PMC1054884</td>\n",
       "      <td>7</td>\n",
       "      <td>Recombination Every Day: Abundant Recombinatio...</td>\n",
       "      <td>As increasing numbers of full-length viral seq...</td>\n",
       "      <td>[as increasing numbers of full-length viral se...</td>\n",
       "      <td>[[or, sequences, frequently, more, recombinant...</td>\n",
       "    </tr>\n",
       "    <tr>\n",
       "      <th>1</th>\n",
       "      <td>PMC1065028</td>\n",
       "      <td>1</td>\n",
       "      <td>Why can't I visit? The ethics of visitation re...</td>\n",
       "      <td>The sudden emergence of severe acute respirato...</td>\n",
       "      <td>[the sudden emergence of severe acute respirat...</td>\n",
       "      <td>[[sars, much, april, (, severe, emergence, in,...</td>\n",
       "    </tr>\n",
       "    <tr>\n",
       "      <th>2</th>\n",
       "      <td>PMC1065064</td>\n",
       "      <td>8</td>\n",
       "      <td>Prospective evaluation of an internet-linked h...</td>\n",
       "      <td>The rate of expansion of medical knowledge is ...</td>\n",
       "      <td>[the rate of expansion of medical knowledge is...</td>\n",
       "      <td>[[rapidly, frequently, difficult, to, new, kno...</td>\n",
       "    </tr>\n",
       "    <tr>\n",
       "      <th>3</th>\n",
       "      <td>PMC1065120</td>\n",
       "      <td>4</td>\n",
       "      <td>Scanning the horizon: emerging hospital-wide t...</td>\n",
       "      <td>This series of articles provides regular surve...</td>\n",
       "      <td>[this series of articles provides regular surv...</td>\n",
       "      <td>[[., regular, care, provides, articles, techno...</td>\n",
       "    </tr>\n",
       "    <tr>\n",
       "      <th>4</th>\n",
       "      <td>PMC1065257</td>\n",
       "      <td>3</td>\n",
       "      <td>Characterization of the frameshift signal of E...</td>\n",
       "      <td>Programmed −1 ribosomal frameshifting (hereaft...</td>\n",
       "      <td>[programmed −1 ribosomal frameshifting (hereaf...</td>\n",
       "      <td>[[particular, quantities, frameshifting, progr...</td>\n",
       "    </tr>\n",
       "  </tbody>\n",
       "</table>\n",
       "</div>"
      ],
      "text/plain": [
       "          pid  num_authors                                              title  \\\n",
       "0  PMC1054884            7  Recombination Every Day: Abundant Recombinatio...   \n",
       "1  PMC1065028            1  Why can't I visit? The ethics of visitation re...   \n",
       "2  PMC1065064            8  Prospective evaluation of an internet-linked h...   \n",
       "3  PMC1065120            4  Scanning the horizon: emerging hospital-wide t...   \n",
       "4  PMC1065257            3  Characterization of the frameshift signal of E...   \n",
       "\n",
       "                                                text  \\\n",
       "0  As increasing numbers of full-length viral seq...   \n",
       "1  The sudden emergence of severe acute respirato...   \n",
       "2  The rate of expansion of medical knowledge is ...   \n",
       "3  This series of articles provides regular surve...   \n",
       "4  Programmed −1 ribosomal frameshifting (hereaft...   \n",
       "\n",
       "                                     text_sent_lower  \\\n",
       "0  [as increasing numbers of full-length viral se...   \n",
       "1  [the sudden emergence of severe acute respirat...   \n",
       "2  [the rate of expansion of medical knowledge is...   \n",
       "3  [this series of articles provides regular surv...   \n",
       "4  [programmed −1 ribosomal frameshifting (hereaf...   \n",
       "\n",
       "                                            sent_set  \n",
       "0  [[or, sequences, frequently, more, recombinant...  \n",
       "1  [[sars, much, april, (, severe, emergence, in,...  \n",
       "2  [[rapidly, frequently, difficult, to, new, kno...  \n",
       "3  [[., regular, care, provides, articles, techno...  \n",
       "4  [[particular, quantities, frameshifting, progr...  "
      ]
     },
     "execution_count": 7,
     "metadata": {},
     "output_type": "execute_result"
    }
   ],
   "source": [
    "paper_df.head()"
   ]
  },
  {
   "cell_type": "code",
   "execution_count": 8,
   "metadata": {
    "execution": {
     "iopub.execute_input": "2020-07-21T00:13:24.924854Z",
     "iopub.status.busy": "2020-07-21T00:13:24.924854Z",
     "iopub.status.idle": "2020-07-21T00:13:24.952857Z",
     "shell.execute_reply": "2020-07-21T00:13:24.950856Z",
     "shell.execute_reply.started": "2020-07-21T00:13:24.924854Z"
    }
   },
   "outputs": [],
   "source": [
    "paper_df[\"found_terms\"] = paper_df[\"sent_set\"].map_partitions(lambda s: s.apply(find_set_in_list, terms=search_terms), meta=\"object\")"
   ]
  },
  {
   "cell_type": "code",
   "execution_count": 9,
   "metadata": {
    "execution": {
     "iopub.execute_input": "2020-07-21T00:13:42.607069Z",
     "iopub.status.busy": "2020-07-21T00:13:42.607069Z",
     "iopub.status.idle": "2020-07-21T00:19:22.346122Z",
     "shell.execute_reply": "2020-07-21T00:19:22.344122Z",
     "shell.execute_reply.started": "2020-07-21T00:13:42.607069Z"
    }
   },
   "outputs": [
    {
     "name": "stdout",
     "output_type": "stream",
     "text": [
      "Duration: 0:05:39.710007\n"
     ]
    }
   ],
   "source": [
    "start_time = datetime.now()\n",
    "\n",
    "paper_df.to_json(str(here(\"./data/db/working/kaggle/id_model_inputs/01-04-found_terms.json.gzip\", warn=False)), compression=\"gzip\") # about 6 minutes\n",
    "\n",
    "end_time = datetime.now()\n",
    "print('Duration: {}'.format(end_time - start_time))"
   ]
  },
  {
   "cell_type": "code",
   "execution_count": 10,
   "metadata": {
    "execution": {
     "iopub.execute_input": "2020-07-21T00:22:38.314306Z",
     "iopub.status.busy": "2020-07-21T00:22:38.313280Z",
     "iopub.status.idle": "2020-07-21T00:22:40.477047Z",
     "shell.execute_reply": "2020-07-21T00:22:40.476060Z",
     "shell.execute_reply.started": "2020-07-21T00:22:38.314306Z"
    }
   },
   "outputs": [],
   "source": [
    "client.shutdown()"
   ]
  },
  {
   "cell_type": "code",
   "execution_count": null,
   "metadata": {},
   "outputs": [],
   "source": []
  }
 ],
 "metadata": {
  "kernelspec": {
   "display_name": "db_covid19",
   "language": "python",
   "name": "db_covid19"
  },
  "language_info": {
   "codemirror_mode": {
    "name": "ipython",
    "version": 3
   },
   "file_extension": ".py",
   "mimetype": "text/x-python",
   "name": "python",
   "nbconvert_exporter": "python",
   "pygments_lexer": "ipython3",
   "version": "3.8.2"
  }
 },
 "nbformat": 4,
 "nbformat_minor": 4
}
